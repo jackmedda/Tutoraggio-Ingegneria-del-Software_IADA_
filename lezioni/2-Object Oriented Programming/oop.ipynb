{
 "cells": [
  {
   "cell_type": "markdown",
   "id": "5668a74f-3929-44cb-a7dc-26538a537386",
   "metadata": {
    "ExecuteTime": {
     "end_time": "2024-04-24T15:20:46.994903400Z",
     "start_time": "2024-04-24T15:20:46.986614200Z"
    },
    "slideshow": {
     "slide_type": "slide"
    },
    "tags": []
   },
   "source": [
    "# Programmazione Orientata agli Oggetti (OOP => Object Oriented Programming)"
   ]
  },
  {
   "cell_type": "markdown",
   "id": "b8e7b1d2-45fd-4604-9a02-123b50e46a48",
   "metadata": {
    "ExecuteTime": {
     "end_time": "2024-04-24T15:20:46.994903400Z",
     "start_time": "2024-04-24T15:20:46.986614200Z"
    },
    "slideshow": {
     "slide_type": "fragment"
    },
    "tags": []
   },
   "source": [
    "Paradigma di programmazione in cui il software è composto da un insieme di oggetti che comunicano fra loro."
   ]
  },
  {
   "cell_type": "markdown",
   "id": "a62ef5ef-0df0-4f2d-87fd-ac575f871623",
   "metadata": {
    "ExecuteTime": {
     "end_time": "2024-04-24T15:20:46.994903400Z",
     "start_time": "2024-04-24T15:20:46.986614200Z"
    },
    "slideshow": {
     "slide_type": "fragment"
    },
    "tags": []
   },
   "source": [
    "La comunicazione avviene tramite scambio di \"messaggi\", ovvero chiamate a funzioni interne di ciascun oggetto."
   ]
  },
  {
   "cell_type": "markdown",
   "id": "41866bb1-753f-4562-95d1-37ab83d59b7f",
   "metadata": {
    "ExecuteTime": {
     "end_time": "2024-04-24T15:20:46.994903400Z",
     "start_time": "2024-04-24T15:20:46.986614200Z"
    },
    "slideshow": {
     "slide_type": "subslide"
    },
    "tags": []
   },
   "source": [
    "L'OOP è direttamente legata all'Object Oriented Analysis and Design (OOAD)."
   ]
  },
  {
   "cell_type": "markdown",
   "id": "c329e4ad-7924-4bc8-8317-0c17f005fd26",
   "metadata": {
    "ExecuteTime": {
     "end_time": "2024-04-24T15:20:46.994903400Z",
     "start_time": "2024-04-24T15:20:46.986614200Z"
    },
    "cell_style": "center",
    "slideshow": {
     "slide_type": "fragment"
    },
    "tags": []
   },
   "source": [
    "Tecnica di ingegneria del software che modella sistemi complessi tramite oggetti e le loro interazioni."
   ]
  },
  {
   "cell_type": "markdown",
   "id": "362a5ff5-0f07-4aa1-a805-164a205ff74f",
   "metadata": {
    "ExecuteTime": {
     "end_time": "2024-04-24T15:20:46.994903400Z",
     "start_time": "2024-04-24T15:20:46.986614200Z"
    },
    "cell_style": "center",
    "slideshow": {
     "slide_type": "fragment"
    },
    "tags": []
   },
   "source": [
    "Aspetti importanti dell'OOAD sono i pattern di progettazione, i diagrammi UML e i casi d'uso."
   ]
  },
  {
   "cell_type": "markdown",
   "id": "8acca18c-38c7-4d52-90f2-505c2802e508",
   "metadata": {
    "slideshow": {
     "slide_type": "slide"
    },
    "tags": []
   },
   "source": [
    "# OOP in Python"
   ]
  },
  {
   "cell_type": "markdown",
   "id": "216d4a04",
   "metadata": {
    "slideshow": {
     "slide_type": "-"
    }
   },
   "source": [
    "Python non è un linguaggio ad oggetti puro"
   ]
  },
  {
   "cell_type": "markdown",
   "id": "b1a9060b",
   "metadata": {
    "slideshow": {
     "slide_type": "fragment"
    }
   },
   "source": [
    "Non gode di diverse proprietà, come l'incapsulazione (attributi e metodi pubblici, protetti, privati)"
   ]
  },
  {
   "cell_type": "markdown",
   "id": "828c42f3",
   "metadata": {
    "slideshow": {
     "slide_type": "slide"
    }
   },
   "source": [
    "## Classe"
   ]
  },
  {
   "cell_type": "code",
   "execution_count": 103,
   "id": "b9d5ea83",
   "metadata": {
    "cell_style": "split",
    "slideshow": {
     "slide_type": "fragment"
    }
   },
   "outputs": [],
   "source": [
    "class Macchina:\n",
    "    pass"
   ]
  },
  {
   "cell_type": "code",
   "execution_count": 104,
   "id": "3eb95ee2",
   "metadata": {
    "cell_style": "split"
   },
   "outputs": [],
   "source": [
    "class Macchina(object):\n",
    "    pass"
   ]
  },
  {
   "cell_type": "markdown",
   "id": "4f759520",
   "metadata": {
    "slideshow": {
     "slide_type": "fragment"
    }
   },
   "source": [
    "Gli attributi di una classe vengono definiti all'interno del costruttore"
   ]
  },
  {
   "cell_type": "code",
   "execution_count": 105,
   "id": "9a7b6729",
   "metadata": {
    "slideshow": {
     "slide_type": "-"
    }
   },
   "outputs": [],
   "source": [
    "class Macchina:\n",
    "    \n",
    "    def __init__(self, marca, modello):\n",
    "        # attributi\n",
    "        self.marca = marca\n",
    "        self.modello = modello"
   ]
  },
  {
   "cell_type": "markdown",
   "id": "79defe27",
   "metadata": {
    "slideshow": {
     "slide_type": "slide"
    }
   },
   "source": [
    "## Istanza di classe"
   ]
  },
  {
   "cell_type": "code",
   "execution_count": 106,
   "id": "73747c09",
   "metadata": {},
   "outputs": [],
   "source": [
    "macchina1 = Macchina(\"Fiat\", \"500\")\n",
    "macchina2 = Macchina(\"Peugeot\", \"308\")\n",
    "macchina3 = Macchina(\"Citroen\", \"C4\")"
   ]
  },
  {
   "cell_type": "code",
   "execution_count": 107,
   "id": "85ef18e5",
   "metadata": {
    "cell_style": "split",
    "slideshow": {
     "slide_type": "fragment"
    }
   },
   "outputs": [
    {
     "name": "stdout",
     "output_type": "stream",
     "text": [
      "<__main__.Macchina object at 0x0000029D154BAD00>\n"
     ]
    }
   ],
   "source": [
    "print(macchina1)"
   ]
  },
  {
   "cell_type": "code",
   "execution_count": 108,
   "id": "fe3b6e20",
   "metadata": {
    "cell_style": "split"
   },
   "outputs": [
    {
     "name": "stdout",
     "output_type": "stream",
     "text": [
      "Peugeot\n"
     ]
    }
   ],
   "source": [
    "print(macchina2.marca)"
   ]
  },
  {
   "cell_type": "markdown",
   "id": "7189889f",
   "metadata": {
    "slideshow": {
     "slide_type": "slide"
    }
   },
   "source": [
    "## Attributi di classe"
   ]
  },
  {
   "cell_type": "code",
   "execution_count": 109,
   "id": "64f6fdae",
   "metadata": {},
   "outputs": [],
   "source": [
    "class Macchina:\n",
    "    NUMERO_PORTE = 5\n",
    "    \n",
    "    def __init__(self, marca, modello):\n",
    "        # attributi\n",
    "        self.marca = marca\n",
    "        self.modello = modello"
   ]
  },
  {
   "cell_type": "code",
   "execution_count": 110,
   "id": "461261c8",
   "metadata": {
    "cell_style": "split"
   },
   "outputs": [],
   "source": [
    "class Macchina:\n",
    "    NUMERO_PORTE = 5\n",
    "    \n",
    "    def __init__(self, marca, modello, numero_porte=5):\n",
    "        # attributi\n",
    "        self.marca = marca\n",
    "        self.modello = modello\n",
    "        \n",
    "        if numero_porte != self.NUMERO_PORTE:\n",
    "            raise ValueError(\n",
    "                \"Questa macchina deve avere 5 porte!\"\n",
    "            )"
   ]
  },
  {
   "cell_type": "code",
   "execution_count": 111,
   "id": "92e74b76",
   "metadata": {
    "cell_style": "split"
   },
   "outputs": [],
   "source": [
    "class Macchina:\n",
    "    NUMERO_PORTE = 5\n",
    "    \n",
    "    def __init__(self, marca, modello, numero_porte=5):\n",
    "        # attributi\n",
    "        self.marca = marca\n",
    "        self.modello = modello\n",
    "        \n",
    "        if numero_porte != Macchina.NUMERO_PORTE:\n",
    "            raise ValueError(\n",
    "                \"Questa macchina deve avere 5 porte!\"\n",
    "            )"
   ]
  },
  {
   "cell_type": "markdown",
   "id": "f0b67baa-9f2e-4000-bb42-f748dc7e49aa",
   "metadata": {
    "slideshow": {
     "slide_type": "slide"
    },
    "tags": []
   },
   "source": [
    "# Attributi Speciali (special\\dunder attributes) di classe"
   ]
  },
  {
   "cell_type": "markdown",
   "id": "bacfea0c",
   "metadata": {
    "cell_style": "split",
    "slideshow": {
     "slide_type": "fragment"
    }
   },
   "source": [
    "Nome della classe"
   ]
  },
  {
   "cell_type": "code",
   "execution_count": 112,
   "id": "bc560920",
   "metadata": {
    "cell_style": "split"
   },
   "outputs": [
    {
     "data": {
      "text/plain": [
       "'Macchina'"
      ]
     },
     "execution_count": 112,
     "metadata": {},
     "output_type": "execute_result"
    }
   ],
   "source": [
    "Macchina.__name__"
   ]
  },
  {
   "cell_type": "markdown",
   "id": "879a2182-dd4c-4c5f-8ecc-8182f474a91e",
   "metadata": {
    "cell_style": "split",
    "slideshow": {
     "slide_type": "fragment"
    },
    "tags": []
   },
   "source": [
    "Classe dell'istanza"
   ]
  },
  {
   "cell_type": "code",
   "execution_count": 113,
   "id": "da6b72f1",
   "metadata": {
    "cell_style": "split",
    "slideshow": {
     "slide_type": "-"
    },
    "tags": []
   },
   "outputs": [
    {
     "data": {
      "text/plain": [
       "__main__.Macchina"
      ]
     },
     "execution_count": 113,
     "metadata": {},
     "output_type": "execute_result"
    }
   ],
   "source": [
    "macchina1.__class__"
   ]
  },
  {
   "cell_type": "markdown",
   "id": "8929636f",
   "metadata": {
    "cell_style": "split",
    "slideshow": {
     "slide_type": "fragment"
    },
    "tags": []
   },
   "source": [
    "Classi base (superclassi)"
   ]
  },
  {
   "cell_type": "code",
   "execution_count": 114,
   "id": "c58361c0",
   "metadata": {
    "cell_style": "split",
    "slideshow": {
     "slide_type": "-"
    },
    "tags": []
   },
   "outputs": [
    {
     "data": {
      "text/plain": [
       "(object,)"
      ]
     },
     "execution_count": 114,
     "metadata": {},
     "output_type": "execute_result"
    }
   ],
   "source": [
    "Macchina.__bases__"
   ]
  },
  {
   "cell_type": "markdown",
   "id": "1cfb08a0",
   "metadata": {
    "cell_style": "split",
    "slideshow": {
     "slide_type": "fragment"
    },
    "tags": []
   },
   "source": [
    "Ordine di risoluzione dei metodi"
   ]
  },
  {
   "cell_type": "code",
   "execution_count": 115,
   "id": "bc954584",
   "metadata": {
    "cell_style": "split",
    "slideshow": {
     "slide_type": "-"
    },
    "tags": []
   },
   "outputs": [
    {
     "data": {
      "text/plain": [
       "(__main__.Macchina, object)"
      ]
     },
     "execution_count": 115,
     "metadata": {},
     "output_type": "execute_result"
    }
   ],
   "source": [
    "Macchina.__mro__"
   ]
  },
  {
   "cell_type": "markdown",
   "id": "9c12777c",
   "metadata": {
    "slideshow": {
     "slide_type": "slide"
    },
    "tags": []
   },
   "source": [
    "# Metodi"
   ]
  },
  {
   "cell_type": "code",
   "execution_count": 116,
   "id": "67f0773a",
   "metadata": {
    "cell_style": "center"
   },
   "outputs": [],
   "source": [
    "class Macchina:\n",
    "    NUMERO_PORTE = 5\n",
    "    \n",
    "    def __init__(self, marca, modello, numero_porte=5):\n",
    "        # attributi\n",
    "        self.marca = marca\n",
    "        self.modello = modello\n",
    "        \n",
    "        self.controlla_porte(numero_porte)\n",
    "        self.numero_porte = numero_porte\n",
    "        \n",
    "    def controlla_porte(self, numero_porte):\n",
    "        if numero_porte != self.NUMERO_PORTE:\n",
    "            raise ValueError(\"Questa macchina deve avere 5 porte!\")\n",
    "    \n",
    "    def stampa_porte(self):\n",
    "        print(f\"Questa macchina ha {self.numero_porte} porte!\")"
   ]
  },
  {
   "cell_type": "code",
   "execution_count": 117,
   "id": "8a8677cd",
   "metadata": {
    "cell_style": "center",
    "slideshow": {
     "slide_type": "fragment"
    }
   },
   "outputs": [
    {
     "name": "stdout",
     "output_type": "stream",
     "text": [
      "Questa macchina ha 5 porte!\n"
     ]
    }
   ],
   "source": [
    "fiat = Macchina(\"Fiat\", \"500\", 5)\n",
    "fiat.stampa_porte()"
   ]
  },
  {
   "cell_type": "markdown",
   "id": "225e07ea",
   "metadata": {
    "slideshow": {
     "slide_type": "slide"
    },
    "tags": []
   },
   "source": [
    "# Metodi Speciali (special\\dunder methods) di classe"
   ]
  },
  {
   "cell_type": "markdown",
   "id": "367398cf",
   "metadata": {},
   "source": [
    "## Rappresentazione"
   ]
  },
  {
   "cell_type": "code",
   "execution_count": 118,
   "id": "c1cfe698",
   "metadata": {
    "cell_style": "split",
    "slideshow": {
     "slide_type": "fragment"
    }
   },
   "outputs": [
    {
     "name": "stdout",
     "output_type": "stream",
     "text": [
      "Macchina Fiat\n"
     ]
    }
   ],
   "source": [
    "class Macchina:\n",
    "    \n",
    "    def __init__(self, marca, modello):\n",
    "        # attributi\n",
    "        self.marca = marca\n",
    "        self.modello = modello\n",
    "    \n",
    "    def __repr__(self):\n",
    "        return \"Macchina \" + self.marca \n",
    "    \n",
    "print(Macchina(\"Fiat\", \"Punto\"))"
   ]
  },
  {
   "cell_type": "code",
   "execution_count": 120,
   "id": "3b67b8c4",
   "metadata": {
    "cell_style": "split"
   },
   "outputs": [
    {
     "name": "stdout",
     "output_type": "stream",
     "text": [
      "Fiat - Panda\n"
     ]
    },
    {
     "data": {
      "text/plain": [
       "<__main__.Macchina at 0x29d154ba850>"
      ]
     },
     "execution_count": 120,
     "metadata": {},
     "output_type": "execute_result"
    }
   ],
   "source": [
    "class Macchina:\n",
    "    \n",
    "    def __init__(self, marca, modello):\n",
    "        # attributi\n",
    "        self.marca = marca\n",
    "        self.modello = modello\n",
    "    \n",
    "    def __str__(self):\n",
    "        return f\"{self.marca} - {self.modello}\"\n",
    "\n",
    "macchina = Macchina(\"Fiat\", \"Panda\")\n",
    "print(macchina)\n",
    "macchina"
   ]
  },
  {
   "cell_type": "code",
   "execution_count": 121,
   "id": "6c5da4db",
   "metadata": {
    "slideshow": {
     "slide_type": "subslide"
    }
   },
   "outputs": [
    {
     "name": "stdout",
     "output_type": "stream",
     "text": [
      "Skoda - Fabia\n"
     ]
    },
    {
     "data": {
      "text/plain": [
       "Macchina - Modello | Skoda - Fabia"
      ]
     },
     "execution_count": 121,
     "metadata": {},
     "output_type": "execute_result"
    }
   ],
   "source": [
    "class Macchina:\n",
    "    \n",
    "    def __init__(self, marca, modello):\n",
    "        # attributi\n",
    "        self.marca = marca\n",
    "        self.modello = modello\n",
    "    \n",
    "    def __str__(self):\n",
    "        return f\"{self.marca} - {self.modello}\"\n",
    "\n",
    "    def __repr__(self):\n",
    "        return \"Macchina - Modello | \" + str(self)  # self.__str__()\n",
    "\n",
    "macchina = Macchina(\"Skoda\", \"Fabia\")\n",
    "print(macchina)\n",
    "macchina"
   ]
  },
  {
   "cell_type": "markdown",
   "id": "99d752e0",
   "metadata": {
    "slideshow": {
     "slide_type": "subslide"
    }
   },
   "source": [
    "## Cancellazione e Valore Booleano"
   ]
  },
  {
   "cell_type": "code",
   "execution_count": 122,
   "id": "a283fa8f",
   "metadata": {
    "cell_style": "split",
    "slideshow": {
     "slide_type": "fragment"
    }
   },
   "outputs": [
    {
     "name": "stdout",
     "output_type": "stream",
     "text": [
      "Elimino l'oggetto\n"
     ]
    },
    {
     "ename": "NameError",
     "evalue": "name 'macchina' is not defined",
     "output_type": "error",
     "traceback": [
      "\u001b[1;31m---------------------------------------------------------------------------\u001b[0m",
      "\u001b[1;31mNameError\u001b[0m                                 Traceback (most recent call last)",
      "Cell \u001b[1;32mIn[122], line 14\u001b[0m\n\u001b[0;32m     12\u001b[0m macchina \u001b[38;5;241m=\u001b[39m Macchina(\u001b[38;5;124m\"\u001b[39m\u001b[38;5;124mFiat\u001b[39m\u001b[38;5;124m\"\u001b[39m, \u001b[38;5;124m\"\u001b[39m\u001b[38;5;124mPunto\u001b[39m\u001b[38;5;124m\"\u001b[39m)\n\u001b[0;32m     13\u001b[0m \u001b[38;5;28;01mdel\u001b[39;00m macchina\n\u001b[1;32m---> 14\u001b[0m \u001b[43mmacchina\u001b[49m\n",
      "\u001b[1;31mNameError\u001b[0m: name 'macchina' is not defined"
     ]
    }
   ],
   "source": [
    "class Macchina:\n",
    "    \n",
    "    def __init__(self, marca, modello):\n",
    "        # attributi\n",
    "        self.marca = marca\n",
    "        self.modello = modello\n",
    "    \n",
    "    def __del__(self):\n",
    "        print(\"Elimino l'oggetto\")\n",
    "        del self  # Superfluo\n",
    "    \n",
    "macchina = Macchina(\"Fiat\", \"Punto\")\n",
    "del macchina\n",
    "macchina"
   ]
  },
  {
   "cell_type": "code",
   "execution_count": 123,
   "id": "a1f8352c",
   "metadata": {
    "cell_style": "split"
   },
   "outputs": [
    {
     "name": "stdout",
     "output_type": "stream",
     "text": [
      "Panda\n"
     ]
    }
   ],
   "source": [
    "class Macchina:\n",
    "    \n",
    "    def __init__(self, marca, modello):\n",
    "        # attributi\n",
    "        self.marca = marca\n",
    "        self.modello = modello\n",
    "    \n",
    "    def __bool__(self):\n",
    "        return bool(self.modello)\n",
    "\n",
    "macchina1 = Macchina(\"Fiat\", \"Panda\")\n",
    "macchina2 = Macchina(\"Chrysler\", \"\")\n",
    "if macchina1:\n",
    "    print(macchina1.modello)\n",
    "if macchina2:\n",
    "    print(macchina2.marca)"
   ]
  },
  {
   "cell_type": "markdown",
   "id": "224e89f9",
   "metadata": {
    "slideshow": {
     "slide_type": "subslide"
    }
   },
   "source": [
    "## Comparazione (rich comparison)"
   ]
  },
  {
   "cell_type": "code",
   "execution_count": 124,
   "id": "d5a3d2b6",
   "metadata": {
    "cell_style": "split",
    "slideshow": {
     "slide_type": "fragment"
    }
   },
   "outputs": [],
   "source": [
    "class Macchina:\n",
    "    \n",
    "    def __init__(self, marca, modello, anno):\n",
    "        # attributi\n",
    "        self.marca = marca\n",
    "        self.modello = modello\n",
    "        self.anno = anno\n",
    "    \n",
    "    def __lt__(self, altra_macchina):\n",
    "        return self.anno < altra_macchina.anno\n",
    "    \n",
    "    def __le__(self, altra_macchina):\n",
    "        return self.anno <= altra_macchina.anno\n",
    "    \n",
    "    def __eq__(self, altra_macchina):\n",
    "        return self.anno == altra_macchina.anno\n",
    "    \n",
    "    def __ne__(self, altra_macchina):\n",
    "        return self.anno != altra_macchina.anno\n",
    "\n",
    "    def __gt__(self, altra_macchina):\n",
    "        return self.anno > altra_macchina.anno\n",
    "\n",
    "    def __ge__(self, altra_macchina):\n",
    "        return self.anno >= altra_macchina.anno"
   ]
  },
  {
   "cell_type": "code",
   "execution_count": 125,
   "id": "abc0509b",
   "metadata": {
    "cell_style": "split"
   },
   "outputs": [
    {
     "name": "stdout",
     "output_type": "stream",
     "text": [
      "Xiaomi SU7 più nuova di VW Golf\n",
      "True\n",
      "\n",
      "Xiaomi SU7 dello stesso anno di VW Golf\n",
      "False\n",
      "\n",
      "VW Golg dello stesso anno di VW Golf\n",
      "True\n"
     ]
    }
   ],
   "source": [
    "macchina_nuova = Macchina(\"Xiaomi\", \"SU7\", 2024)\n",
    "macchina_vecchia = Macchina(\"VW\", \"Golf\", 2015)\n",
    "\n",
    "print(\"Xiaomi SU7 più nuova di VW Golf\")\n",
    "print(macchina_nuova > macchina_vecchia, end='\\n\\n')\n",
    "\n",
    "print(\"Xiaomi SU7 dello stesso anno di VW Golf\")\n",
    "print(macchina_nuova == macchina_vecchia, end='\\n\\n')\n",
    "\n",
    "print(\"VW Golg dello stesso anno di VW Golf\")\n",
    "print(macchina_nuova != macchina_vecchia)"
   ]
  },
  {
   "cell_type": "markdown",
   "id": "d9652a23",
   "metadata": {
    "slideshow": {
     "slide_type": "subslide"
    }
   },
   "source": [
    "## Emulazione tipi numerici"
   ]
  },
  {
   "cell_type": "code",
   "execution_count": 126,
   "id": "ad36e0d4",
   "metadata": {
    "cell_style": "split",
    "slideshow": {
     "slide_type": "fragment"
    }
   },
   "outputs": [],
   "source": [
    "class Macchina:\n",
    "    \n",
    "    def __init__(self, marca, modello, anno):\n",
    "        # attributi\n",
    "        self.marca = marca\n",
    "        self.modello = modello\n",
    "        self.anno = anno\n",
    "    \n",
    "    def __add__(self, altra_macchina):\n",
    "        return self.anno + altra_macchina.anno\n",
    "    \n",
    "    def __sub__(self, altra_macchina):\n",
    "        return self.anno - altra_macchina.anno\n",
    "    \n",
    "    def __mul__(self, altra_macchina):\n",
    "        return self.anno * altra_macchina.anno\n",
    "    \n",
    "    def __truediv__(self, altra_macchina):\n",
    "        return self.anno / altra_macchina.anno\n",
    "\n",
    "    def __floordiv__(self, altra_macchina):\n",
    "        return self.anno // altra_macchina.anno\n",
    "\n",
    "    def __mod__(self, altra_macchina):\n",
    "        return self.anno % altra_macchina.anno"
   ]
  },
  {
   "cell_type": "code",
   "execution_count": 127,
   "id": "2b3c7993",
   "metadata": {
    "cell_style": "split"
   },
   "outputs": [
    {
     "name": "stdout",
     "output_type": "stream",
     "text": [
      "Xiaomi SU7 + VW Golf\n",
      "4039\n",
      "\n",
      "Xiaomi SU7 * VW Golf\n",
      "4078360\n",
      "\n",
      "VW Golg / VW Golf\n",
      "1.0044665012406948\n"
     ]
    }
   ],
   "source": [
    "macchina_nuova = Macchina(\"Xiaomi\", \"SU7\", 2024)\n",
    "macchina_vecchia = Macchina(\"VW\", \"Golf\", 2015)\n",
    "\n",
    "print(\"Xiaomi SU7 + VW Golf\")\n",
    "print(macchina_nuova + macchina_vecchia, end='\\n\\n')\n",
    "\n",
    "print(\"Xiaomi SU7 * VW Golf\")\n",
    "print(macchina_nuova * macchina_vecchia, end='\\n\\n')\n",
    "\n",
    "print(\"VW Golg / VW Golf\")\n",
    "print(macchina_nuova / macchina_vecchia)"
   ]
  },
  {
   "cell_type": "markdown",
   "id": "affa6786",
   "metadata": {
    "slideshow": {
     "slide_type": "subslide"
    }
   },
   "source": [
    "## Emulazione tipi contenitori (liste, tuple, dizionari, ...)"
   ]
  },
  {
   "cell_type": "code",
   "execution_count": 128,
   "id": "799fd51b",
   "metadata": {
    "cell_style": "split",
    "slideshow": {
     "slide_type": "fragment"
    }
   },
   "outputs": [],
   "source": [
    "class Macchina:\n",
    "    \n",
    "    def __init__(self, marca, modello, passeggeri):\n",
    "        # attributi\n",
    "        self.marca = marca\n",
    "        self.modello = modello\n",
    "        self.passeggeri : list = passeggeri\n",
    "    \n",
    "    def __len__(self):\n",
    "        return len(self.passeggeri)\n",
    "    \n",
    "    def __getitem__(self, indice):\n",
    "        return self.passeggeri[indice]\n",
    "    \n",
    "    def __setitem__(self, indice, valore):\n",
    "        self.passeggeri[indice] = valore\n",
    "    \n",
    "    def __delitem__(self, indice):\n",
    "        del self.passeggeri[indice]\n",
    "\n",
    "    def __contains__(self, valore):\n",
    "        return valore in self.passeggeri\n",
    "\n",
    "    def __iter__(self):\n",
    "        return iter(self.passeggeri)"
   ]
  },
  {
   "cell_type": "code",
   "execution_count": 129,
   "id": "67ff6e96",
   "metadata": {
    "cell_style": "split"
   },
   "outputs": [
    {
     "name": "stdout",
     "output_type": "stream",
     "text": [
      "Numero Passeggeri 4\n",
      "\n",
      "Studente 3\n",
      "\n",
      "['Studente 1', 'Gustavo', 'Studente 3', 'Studente 4']\n",
      "\n",
      "False\n"
     ]
    }
   ],
   "source": [
    "passeggeri = [\n",
    "    \"Studente 1\",\n",
    "    \"Studente 2\",\n",
    "    \"Studente 3\",\n",
    "    \"Studente 4\",\n",
    "]\n",
    "macchina = Macchina(\"Kia\", \"Picanto\", passeggeri)\n",
    "\n",
    "print(\"Numero Passeggeri\", len(macchina), end='\\n\\n')\n",
    "print(macchina[2], end='\\n\\n')\n",
    "\n",
    "macchina[1] = \"Gustavo\"\n",
    "print(macchina.passeggeri, end='\\n\\n')\n",
    "\n",
    "print(\"Riccardo\" in macchina)"
   ]
  },
  {
   "cell_type": "markdown",
   "id": "b674b412-5a27-4594-ab56-74f80b12a462",
   "metadata": {
    "slideshow": {
     "slide_type": "slide"
    },
    "tags": []
   },
   "source": [
    "# Decoratori speciali per classi"
   ]
  },
  {
   "cell_type": "code",
   "execution_count": 131,
   "id": "eafcc3a6",
   "metadata": {
    "cell_style": "split",
    "slideshow": {
     "slide_type": "fragment"
    }
   },
   "outputs": [],
   "source": [
    "class Macchina:\n",
    "    \n",
    "    def __init__(self, marca, modello):\n",
    "        # attributi\n",
    "        self.marca = marca\n",
    "        self.modello = modello\n",
    "    \n",
    "    @staticmethod\n",
    "    def formato_singola_stringa():\n",
    "        return \"MARCA+MODELLO\"\n",
    "    \n",
    "    @classmethod\n",
    "    def da_stringa_singola(cls, stringa):\n",
    "        marca, modello = stringa.split('+')\n",
    "        return cls(marca, modello)\n",
    "    \n",
    "    def __str__(self):\n",
    "        return f\"{self.marca} {self.modello}\""
   ]
  },
  {
   "cell_type": "code",
   "execution_count": 132,
   "id": "194e659f",
   "metadata": {
    "cell_style": "split"
   },
   "outputs": [
    {
     "name": "stdout",
     "output_type": "stream",
     "text": [
      "MARCA+MODELLO\n",
      "\n",
      "MARCA+MODELLO\n",
      "\n",
      "Honda Civic\n"
     ]
    }
   ],
   "source": [
    "print(Macchina.formato_singola_stringa(), end='\\n\\n')\n",
    "\n",
    "bmw = Macchina(\"BMW\", \"Serie 5\")\n",
    "print(bmw.formato_singola_stringa(), end='\\n\\n')\n",
    "\n",
    "honda = Macchina.da_stringa_singola(\"Honda+Civic\")\n",
    "print(honda)"
   ]
  },
  {
   "cell_type": "code",
   "execution_count": 133,
   "id": "2b00dca9",
   "metadata": {
    "cell_style": "split",
    "slideshow": {
     "slide_type": "subslide"
    }
   },
   "outputs": [],
   "source": [
    "class Macchina:\n",
    "    \n",
    "    def __init__(self, marca, modello, telaio):\n",
    "        # attributi\n",
    "        self.marca = marca\n",
    "        self.modello = modello\n",
    "        self._telaio = telaio\n",
    "    \n",
    "    @property\n",
    "    def telaio(self):\n",
    "        return self._telaio\n",
    "    \n",
    "    @telaio.setter\n",
    "    def telaio(self, valore):\n",
    "        raise AttributeError(\n",
    "            \"Non si può modificare il numero di telaio\"\n",
    "        )"
   ]
  },
  {
   "cell_type": "code",
   "execution_count": 134,
   "id": "24b0d268",
   "metadata": {
    "cell_style": "split"
   },
   "outputs": [
    {
     "name": "stdout",
     "output_type": "stream",
     "text": [
      "CXZ432\n",
      "\n"
     ]
    },
    {
     "ename": "AttributeError",
     "evalue": "Non si può modificare il numero di telaio",
     "output_type": "error",
     "traceback": [
      "\u001b[1;31m---------------------------------------------------------------------------\u001b[0m",
      "\u001b[1;31mAttributeError\u001b[0m                            Traceback (most recent call last)",
      "Cell \u001b[1;32mIn[134], line 4\u001b[0m\n\u001b[0;32m      1\u001b[0m bmw \u001b[38;5;241m=\u001b[39m Macchina(\u001b[38;5;124m\"\u001b[39m\u001b[38;5;124mBMW\u001b[39m\u001b[38;5;124m\"\u001b[39m, \u001b[38;5;124m\"\u001b[39m\u001b[38;5;124mSerie 5\u001b[39m\u001b[38;5;124m\"\u001b[39m, \u001b[38;5;124m\"\u001b[39m\u001b[38;5;124mCXZ432\u001b[39m\u001b[38;5;124m\"\u001b[39m)\n\u001b[0;32m      2\u001b[0m \u001b[38;5;28mprint\u001b[39m(bmw\u001b[38;5;241m.\u001b[39mtelaio, end\u001b[38;5;241m=\u001b[39m\u001b[38;5;124m'\u001b[39m\u001b[38;5;130;01m\\n\u001b[39;00m\u001b[38;5;130;01m\\n\u001b[39;00m\u001b[38;5;124m'\u001b[39m)\n\u001b[1;32m----> 4\u001b[0m \u001b[43mbmw\u001b[49m\u001b[38;5;241;43m.\u001b[39;49m\u001b[43mtelaio\u001b[49m \u001b[38;5;241m=\u001b[39m \u001b[38;5;124m\"\u001b[39m\u001b[38;5;124mCVVVVV\u001b[39m\u001b[38;5;124m\"\u001b[39m\n",
      "Cell \u001b[1;32mIn[133], line 15\u001b[0m, in \u001b[0;36mMacchina.telaio\u001b[1;34m(self, valore)\u001b[0m\n\u001b[0;32m     13\u001b[0m \u001b[38;5;129m@telaio\u001b[39m\u001b[38;5;241m.\u001b[39msetter\n\u001b[0;32m     14\u001b[0m \u001b[38;5;28;01mdef\u001b[39;00m \u001b[38;5;21mtelaio\u001b[39m(\u001b[38;5;28mself\u001b[39m, valore):\n\u001b[1;32m---> 15\u001b[0m     \u001b[38;5;28;01mraise\u001b[39;00m \u001b[38;5;167;01mAttributeError\u001b[39;00m(\n\u001b[0;32m     16\u001b[0m         \u001b[38;5;124m\"\u001b[39m\u001b[38;5;124mNon si può modificare il numero di telaio\u001b[39m\u001b[38;5;124m\"\u001b[39m\n\u001b[0;32m     17\u001b[0m     )\n",
      "\u001b[1;31mAttributeError\u001b[0m: Non si può modificare il numero di telaio"
     ]
    }
   ],
   "source": [
    "bmw = Macchina(\"BMW\", \"Serie 5\", \"CXZ432\")\n",
    "print(bmw.telaio, end='\\n\\n')\n",
    "\n",
    "bmw.telaio = \"CVVVVV\""
   ]
  },
  {
   "cell_type": "markdown",
   "id": "cb84c20c",
   "metadata": {
    "slideshow": {
     "slide_type": "slide"
    },
    "tags": []
   },
   "source": [
    "# Ereditarietà in Python"
   ]
  },
  {
   "cell_type": "markdown",
   "id": "cf32dbef-1ce6-4a7c-a037-9aa6c166cdad",
   "metadata": {
    "slideshow": {
     "slide_type": "subslide"
    },
    "tags": []
   },
   "source": [
    "## Ereditarietà singola"
   ]
  },
  {
   "cell_type": "code",
   "execution_count": 135,
   "id": "98a5c015",
   "metadata": {
    "cell_style": "split"
   },
   "outputs": [],
   "source": [
    "class Macchina:\n",
    "    \n",
    "    def __init__(self, modello):\n",
    "        self.modello = modello\n",
    "    \n",
    "    def stampa_marca(self):\n",
    "        raise NotImplementedError(\n",
    "            \"Macchina non ha marca\"\n",
    "        )\n",
    "        \n",
    "class BMW(Macchina):\n",
    "    \n",
    "    def __init__(self, modello, anno):\n",
    "        super().__init__(modello)\n",
    "        self.anno = anno\n",
    "    \n",
    "    def stampa_marca(self):\n",
    "        print(self.__class__.__name__)"
   ]
  },
  {
   "cell_type": "code",
   "execution_count": 136,
   "id": "ec92f408",
   "metadata": {
    "cell_style": "split"
   },
   "outputs": [
    {
     "name": "stdout",
     "output_type": "stream",
     "text": [
      "BMW\n"
     ]
    },
    {
     "ename": "NotImplementedError",
     "evalue": "Macchina non ha marca",
     "output_type": "error",
     "traceback": [
      "\u001b[1;31m---------------------------------------------------------------------------\u001b[0m",
      "\u001b[1;31mNotImplementedError\u001b[0m                       Traceback (most recent call last)",
      "Cell \u001b[1;32mIn[136], line 5\u001b[0m\n\u001b[0;32m      2\u001b[0m bmw\u001b[38;5;241m.\u001b[39mstampa_marca()\n\u001b[0;32m      4\u001b[0m macchina \u001b[38;5;241m=\u001b[39m Macchina(\u001b[38;5;124m\"\u001b[39m\u001b[38;5;124m\"\u001b[39m)\n\u001b[1;32m----> 5\u001b[0m \u001b[43mmacchina\u001b[49m\u001b[38;5;241;43m.\u001b[39;49m\u001b[43mstampa_marca\u001b[49m\u001b[43m(\u001b[49m\u001b[43m)\u001b[49m\n",
      "Cell \u001b[1;32mIn[135], line 7\u001b[0m, in \u001b[0;36mMacchina.stampa_marca\u001b[1;34m(self)\u001b[0m\n\u001b[0;32m      6\u001b[0m \u001b[38;5;28;01mdef\u001b[39;00m \u001b[38;5;21mstampa_marca\u001b[39m(\u001b[38;5;28mself\u001b[39m):\n\u001b[1;32m----> 7\u001b[0m     \u001b[38;5;28;01mraise\u001b[39;00m \u001b[38;5;167;01mNotImplementedError\u001b[39;00m(\n\u001b[0;32m      8\u001b[0m         \u001b[38;5;124m\"\u001b[39m\u001b[38;5;124mMacchina non ha marca\u001b[39m\u001b[38;5;124m\"\u001b[39m\n\u001b[0;32m      9\u001b[0m     )\n",
      "\u001b[1;31mNotImplementedError\u001b[0m: Macchina non ha marca"
     ]
    }
   ],
   "source": [
    "bmw = BMW(\"Serie 5\", 2020)\n",
    "bmw.stampa_marca()\n",
    "\n",
    "macchina = Macchina(\"\")\n",
    "macchina.stampa_marca()"
   ]
  },
  {
   "cell_type": "markdown",
   "id": "96a7d4e4-9742-4ac8-aaf3-bf6159fa845f",
   "metadata": {
    "slideshow": {
     "slide_type": "subslide"
    },
    "tags": []
   },
   "source": [
    "## Multi-ereditarietà"
   ]
  },
  {
   "cell_type": "code",
   "execution_count": 137,
   "id": "17d802f6",
   "metadata": {
    "cell_style": "split"
   },
   "outputs": [],
   "source": [
    "class Veicolo:\n",
    "    \n",
    "    def __init__(self, marca):\n",
    "        self.marca = marca\n",
    "        \n",
    "class TrasportaPersone:\n",
    "    \n",
    "    def __init__(self, numero_passeggeri):\n",
    "        self.numero_passeggeri = numero_passeggeri\n",
    "        \n",
    "class Bus(Veicolo, TrasportaPersone):\n",
    "    \n",
    "    def __init__(self, marca, numero_passeggeri):\n",
    "        Veicolo.__init__(self, marca)\n",
    "        TrasportaPersone.__init__(self, numero_passeggeri)\n",
    "        # super().__init__(marca)\n",
    "        # super(Veicolo, self).__init__(numero_passeggeri)"
   ]
  },
  {
   "cell_type": "code",
   "execution_count": 138,
   "id": "cddbc183",
   "metadata": {
    "cell_style": "split"
   },
   "outputs": [
    {
     "data": {
      "text/plain": [
       "('Mercedes', 50)"
      ]
     },
     "execution_count": 138,
     "metadata": {},
     "output_type": "execute_result"
    }
   ],
   "source": [
    "bus = Bus(\"Mercedes\", 50)\n",
    "\n",
    "bus.marca, bus.numero_passeggeri"
   ]
  },
  {
   "cell_type": "markdown",
   "id": "6557432c-1236-4cff-a884-3319082e3df7",
   "metadata": {
    "slideshow": {
     "slide_type": "slide"
    },
    "tags": []
   },
   "source": [
    "# Classi Astratte (ABC)"
   ]
  },
  {
   "cell_type": "code",
   "execution_count": 139,
   "id": "347e8128",
   "metadata": {
    "cell_style": "split"
   },
   "outputs": [],
   "source": [
    "from abc import ABC, abstractmethod\n",
    "\n",
    "class Veicolo(ABC):\n",
    "    \n",
    "    def __init__(self, marca):\n",
    "        self.marca = marca\n",
    "    \n",
    "    @abstractmethod\n",
    "    def numero_ruote(self):\n",
    "        ..."
   ]
  },
  {
   "cell_type": "code",
   "execution_count": 140,
   "id": "04aa29c4",
   "metadata": {
    "cell_style": "split"
   },
   "outputs": [
    {
     "ename": "TypeError",
     "evalue": "Can't instantiate abstract class Veicolo with abstract methods numero_ruote",
     "output_type": "error",
     "traceback": [
      "\u001b[1;31m---------------------------------------------------------------------------\u001b[0m",
      "\u001b[1;31mTypeError\u001b[0m                                 Traceback (most recent call last)",
      "Cell \u001b[1;32mIn[140], line 1\u001b[0m\n\u001b[1;32m----> 1\u001b[0m v \u001b[38;5;241m=\u001b[39m \u001b[43mVeicolo\u001b[49m\u001b[43m(\u001b[49m\u001b[38;5;124;43m'\u001b[39;49m\u001b[38;5;124;43mMercedes\u001b[39;49m\u001b[38;5;124;43m'\u001b[39;49m\u001b[43m)\u001b[49m\n\u001b[0;32m      2\u001b[0m v\u001b[38;5;241m.\u001b[39mnumero_ruote()\n",
      "\u001b[1;31mTypeError\u001b[0m: Can't instantiate abstract class Veicolo with abstract methods numero_ruote"
     ]
    }
   ],
   "source": [
    "v = Veicolo('Mercedes')\n",
    "v.numero_ruote()"
   ]
  },
  {
   "cell_type": "markdown",
   "id": "478e6ed5-d2ce-4529-8be3-864d8ed68ea6",
   "metadata": {
    "slideshow": {
     "slide_type": "slide"
    },
    "tags": []
   },
   "source": [
    "# Esempi di classi in librerie di Machine Learning"
   ]
  },
  {
   "cell_type": "markdown",
   "id": "e2c8a362-5639-457f-8bac-99f89479f133",
   "metadata": {
    "slideshow": {
     "slide_type": "subslide"
    },
    "tags": []
   },
   "source": [
    "## PyTorch nn.Module"
   ]
  },
  {
   "cell_type": "markdown",
   "id": "6d4a7a05",
   "metadata": {
    "slideshow": {
     "slide_type": "fragment"
    }
   },
   "source": [
    "Classe base di ogni rete neurale"
   ]
  },
  {
   "cell_type": "markdown",
   "id": "974ac214",
   "metadata": {
    "slideshow": {
     "slide_type": "fragment"
    }
   },
   "source": [
    "Gestisce la registrazione dei parametri del modello, il suo stato e l'abilitazione dei layer"
   ]
  },
  {
   "cell_type": "markdown",
   "id": "38b8cca5-3b9f-4e2d-8067-a696a9f8279b",
   "metadata": {
    "slideshow": {
     "slide_type": "subslide"
    },
    "tags": []
   },
   "source": [
    "## PyTorch data.Dataloader"
   ]
  },
  {
   "cell_type": "markdown",
   "id": "58311ac8",
   "metadata": {},
   "source": [
    "Interfaccia utilizzabile per una gestione ottimizzata dei dati in input al modello"
   ]
  },
  {
   "cell_type": "markdown",
   "id": "519b035f",
   "metadata": {},
   "source": [
    "Fornisce funzionalità di parallelizzazione e personalizzazione per caricare i dati"
   ]
  },
  {
   "cell_type": "markdown",
   "id": "430535e7",
   "metadata": {
    "slideshow": {
     "slide_type": "slide"
    }
   },
   "source": [
    "# \"Finta\" Incapsulazione in Python"
   ]
  },
  {
   "cell_type": "code",
   "execution_count": null,
   "id": "6244aecf",
   "metadata": {},
   "outputs": [],
   "source": []
  },
  {
   "cell_type": "markdown",
   "id": "115e889c-3516-4ebe-95db-1360ff375ce4",
   "metadata": {
    "slideshow": {
     "slide_type": "slide"
    },
    "tags": []
   },
   "source": [
    "# Programmazione Funzionale in Python"
   ]
  },
  {
   "cell_type": "markdown",
   "id": "af377021-4baa-4030-87f5-d8881c9c843f",
   "metadata": {
    "slideshow": {
     "slide_type": "subslide"
    },
    "tags": []
   },
   "source": [
    "## map, filter, lambda, reduce, list comprehension, generators"
   ]
  },
  {
   "cell_type": "code",
   "execution_count": null,
   "id": "9628dcfd",
   "metadata": {},
   "outputs": [],
   "source": []
  }
 ],
 "metadata": {
  "celltoolbar": "Slideshow",
  "kernelspec": {
   "display_name": "Python 3 (ipykernel)",
   "language": "python",
   "name": "python3"
  },
  "language_info": {
   "codemirror_mode": {
    "name": "ipython",
    "version": 3
   },
   "file_extension": ".py",
   "mimetype": "text/x-python",
   "name": "python",
   "nbconvert_exporter": "python",
   "pygments_lexer": "ipython3",
   "version": "3.8.10"
  },
  "rise": {
   "autolaunch": true,
   "auto_select": "code",
   "center": true,
   "enable_chalkboard": true,
   "slideNumber": "c/t"
  }
 },
 "nbformat": 4,
 "nbformat_minor": 5
}
