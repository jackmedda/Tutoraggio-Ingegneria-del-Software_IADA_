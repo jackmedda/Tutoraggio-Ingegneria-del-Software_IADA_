{
 "cells": [
  {
   "cell_type": "code",
   "execution_count": null,
   "id": "df02d90f",
   "metadata": {},
   "outputs": [],
   "source": [
    "# Dependencies\n",
    "!pip install pyarrow, pandas, dask, polars, graphviz"
   ]
  },
  {
   "cell_type": "markdown",
   "id": "5668a74f-3929-44cb-a7dc-26538a537386",
   "metadata": {
    "ExecuteTime": {
     "end_time": "2024-04-24T15:20:46.994903400Z",
     "start_time": "2024-04-24T15:20:46.986614200Z"
    },
    "slideshow": {
     "slide_type": "slide"
    },
    "tags": []
   },
   "source": [
    "# Gestione Dati su Larga Scala"
   ]
  },
  {
   "cell_type": "markdown",
   "id": "b8e7b1d2-45fd-4604-9a02-123b50e46a48",
   "metadata": {
    "ExecuteTime": {
     "end_time": "2024-04-24T15:20:46.994903400Z",
     "start_time": "2024-04-24T15:20:46.986614200Z"
    },
    "slideshow": {
     "slide_type": "-"
    },
    "tags": []
   },
   "source": [
    "Lavorando coi dati in Python si usano tipicamente librerie come NumPy e Pandas"
   ]
  },
  {
   "cell_type": "markdown",
   "id": "a62ef5ef-0df0-4f2d-87fd-ac575f871623",
   "metadata": {
    "ExecuteTime": {
     "end_time": "2024-04-24T15:20:46.994903400Z",
     "start_time": "2024-04-24T15:20:46.986614200Z"
    },
    "slideshow": {
     "slide_type": "fragment"
    },
    "tags": []
   },
   "source": [
    "NumPy estende Python con gli array e la vettorizzazione delle operazioni."
   ]
  },
  {
   "cell_type": "markdown",
   "id": "41866bb1-753f-4562-95d1-37ab83d59b7f",
   "metadata": {
    "ExecuteTime": {
     "end_time": "2024-04-24T15:20:46.994903400Z",
     "start_time": "2024-04-24T15:20:46.986614200Z"
    },
    "slideshow": {
     "slide_type": "fragment"
    },
    "tags": []
   },
   "source": [
    "La funzionalità principale fornita da Pandas è la struttura dati DataFrame, simile a una tabella bidimensionale per rappresentare i dati"
   ]
  },
  {
   "cell_type": "markdown",
   "id": "c329e4ad-7924-4bc8-8317-0c17f005fd26",
   "metadata": {
    "ExecuteTime": {
     "end_time": "2024-04-24T15:20:46.994903400Z",
     "start_time": "2024-04-24T15:20:46.986614200Z"
    },
    "cell_style": "center",
    "slideshow": {
     "slide_type": "subslide"
    },
    "tags": []
   },
   "source": [
    "## PANDAS È LENTO!"
   ]
  },
  {
   "cell_type": "markdown",
   "id": "362a5ff5-0f07-4aa1-a805-164a205ff74f",
   "metadata": {
    "ExecuteTime": {
     "end_time": "2024-04-24T15:20:46.994903400Z",
     "start_time": "2024-04-24T15:20:46.986614200Z"
    },
    "cell_style": "center",
    "slideshow": {
     "slide_type": "subslide"
    },
    "tags": []
   },
   "source": [
    "## Alternative a Pandas"
   ]
  },
  {
   "cell_type": "markdown",
   "id": "ac77ad31",
   "metadata": {
    "slideshow": {
     "slide_type": "fragment"
    }
   },
   "source": [
    "**Polars**: libreria per DataFrame scritta in Rust e basata sul formato di array colonna di Apache Arrow"
   ]
  },
  {
   "cell_type": "markdown",
   "id": "896fa12a",
   "metadata": {},
   "source": [
    "**Dask**: libreria che estende NumPy e Pandas per fare computazioni ottimizzate e suddividere il lavoro fra diversi nodi in un cluster"
   ]
  },
  {
   "cell_type": "markdown",
   "id": "8acca18c-38c7-4d52-90f2-505c2802e508",
   "metadata": {
    "slideshow": {
     "slide_type": "slide"
    },
    "tags": []
   },
   "source": [
    "# Voglio usare Pandas, come posso ottimizzarlo?"
   ]
  },
  {
   "cell_type": "markdown",
   "id": "216d4a04",
   "metadata": {
    "slideshow": {
     "slide_type": "-"
    }
   },
   "source": [
    "Per questa dimostrazione useremo [*Steam Games Dataset*](https://www.kaggle.com/datasets/fronkongames/steam-games-dataset?resource=download), un dataset distribuito su Kaggle di informazioni su vari giochi pubblicati sulla piattaforma Steam"
   ]
  },
  {
   "cell_type": "markdown",
   "id": "b1a9060b",
   "metadata": {
    "slideshow": {
     "slide_type": "fragment"
    }
   },
   "source": [
    "Il dataset ha 85mila righe e 39 colonne"
   ]
  },
  {
   "cell_type": "code",
   "execution_count": null,
   "id": "011024b5",
   "metadata": {
    "slideshow": {
     "slide_type": "subslide"
    }
   },
   "outputs": [],
   "source": [
    "import pandas as pd\n",
    "pd.set_option('display.max_rows', 6)\n",
    "pd.set_option(\"max_colwidth\", 15)"
   ]
  },
  {
   "cell_type": "code",
   "execution_count": null,
   "id": "17076947",
   "metadata": {
    "slideshow": {
     "slide_type": "fragment"
    }
   },
   "outputs": [],
   "source": [
    "%%time\n",
    "\n",
    "df = pd.read_csv('games.csv')"
   ]
  },
  {
   "cell_type": "markdown",
   "id": "c936db77",
   "metadata": {
    "slideshow": {
     "slide_type": "fragment"
    }
   },
   "source": [
    "La lettura è stata abbastanza rapida, ma il dataset è abbastanza piccolo, sebbene abbia molte colonne"
   ]
  },
  {
   "cell_type": "markdown",
   "id": "db3bba99",
   "metadata": {
    "slideshow": {
     "slide_type": "subslide"
    }
   },
   "source": [
    "Proviamo a ingrandire il dataset"
   ]
  },
  {
   "cell_type": "code",
   "execution_count": null,
   "id": "6efe2ffe",
   "metadata": {},
   "outputs": [],
   "source": [
    "%%time\n",
    "\n",
    "df_grande = pd.concat([df] * 10, ignore_index=True)"
   ]
  },
  {
   "cell_type": "code",
   "execution_count": null,
   "id": "1844a69b",
   "metadata": {
    "cell_style": "split",
    "slideshow": {
     "slide_type": "fragment"
    }
   },
   "outputs": [],
   "source": [
    "%%time\n",
    "\n",
    "df_grande.to_csv('big_games.csv', index=False)"
   ]
  },
  {
   "cell_type": "code",
   "execution_count": null,
   "id": "28ba8d65",
   "metadata": {
    "cell_style": "split"
   },
   "outputs": [],
   "source": [
    "!dir"
   ]
  },
  {
   "cell_type": "markdown",
   "id": "b144ac70",
   "metadata": {
    "slideshow": {
     "slide_type": "subslide"
    }
   },
   "source": [
    "Adesso proviamo a ricaricare il dataset in memoria e comparare i tempi"
   ]
  },
  {
   "cell_type": "code",
   "execution_count": null,
   "id": "489f0dea",
   "metadata": {
    "cell_style": "split"
   },
   "outputs": [],
   "source": [
    "%%time\n",
    "\n",
    "df = pd.read_csv('games.csv')"
   ]
  },
  {
   "cell_type": "code",
   "execution_count": null,
   "id": "9ef27c50",
   "metadata": {
    "cell_style": "split",
    "scrolled": true
   },
   "outputs": [],
   "source": [
    "%%time\n",
    "\n",
    "df_grande = pd.read_csv('big_games.csv')"
   ]
  },
  {
   "cell_type": "markdown",
   "id": "ec48bd76",
   "metadata": {
    "slideshow": {
     "slide_type": "subslide"
    }
   },
   "source": [
    "## Caricare solo i dati utili"
   ]
  },
  {
   "cell_type": "markdown",
   "id": "a4ec9a20",
   "metadata": {},
   "source": [
    "Ci servono davvero tutte queste colonne e relative informazioni?"
   ]
  },
  {
   "cell_type": "code",
   "execution_count": null,
   "id": "302e70a4",
   "metadata": {},
   "outputs": [],
   "source": [
    "df"
   ]
  },
  {
   "cell_type": "markdown",
   "id": "e264d90d",
   "metadata": {
    "cell_style": "center",
    "slideshow": {
     "slide_type": "subslide"
    }
   },
   "source": [
    "Per esempio, facciamo un'analisi sui generi dei giochi e i prezzi medi di ciascuno.\n",
    "Abbiamo quindi solo bisogni di caricare queste informazioni:\n",
    "- AppID: id del gioco\n",
    "- Name: nome del gioco\n",
    "- Price: prezzo\n",
    "- Genres: generi del gioco"
   ]
  },
  {
   "cell_type": "markdown",
   "id": "071ca25c",
   "metadata": {
    "cell_style": "split",
    "slideshow": {
     "slide_type": "fragment"
    }
   },
   "source": [
    "Versione lenta"
   ]
  },
  {
   "cell_type": "markdown",
   "id": "6fb9be2d",
   "metadata": {
    "cell_style": "split"
   },
   "source": [
    "Versione rapida"
   ]
  },
  {
   "cell_type": "code",
   "execution_count": null,
   "id": "06a48a98",
   "metadata": {
    "cell_style": "split"
   },
   "outputs": [],
   "source": [
    "%%time\n",
    "\n",
    "colonne = ['AppID', 'Name', 'Price', 'Genres']\n",
    "df = pd.read_csv('big_games.csv')\n",
    "df[colonne]"
   ]
  },
  {
   "cell_type": "code",
   "execution_count": null,
   "id": "b1a40866",
   "metadata": {
    "cell_style": "split"
   },
   "outputs": [],
   "source": [
    "%%time\n",
    "\n",
    "colonne = ['AppID', 'Name', 'Price', 'Genres']\n",
    "df = pd.read_csv('big_games.csv', usecols=colonne)\n",
    "df"
   ]
  },
  {
   "cell_type": "markdown",
   "id": "828c42f3",
   "metadata": {
    "slideshow": {
     "slide_type": "subslide"
    }
   },
   "source": [
    "## Integrare PyArrow"
   ]
  },
  {
   "cell_type": "code",
   "execution_count": null,
   "id": "d6982277",
   "metadata": {},
   "outputs": [],
   "source": [
    "%%time\n",
    "\n",
    "df = pd.read_csv('big_games.csv', engine='pyarrow')"
   ]
  },
  {
   "cell_type": "markdown",
   "id": "33a4d56d",
   "metadata": {
    "slideshow": {
     "slide_type": "fragment"
    }
   },
   "source": [
    "PyArrow può essere anche utilizzato come backend per la gestione e tipizzazione dei dati"
   ]
  },
  {
   "cell_type": "code",
   "execution_count": null,
   "id": "0a4747a9",
   "metadata": {},
   "outputs": [],
   "source": [
    "%%time\n",
    "\n",
    "df = pd.read_csv('big_games.csv', engine='pyarrow', dtype_backend=\"pyarrow\")\n",
    "df.dtypes"
   ]
  },
  {
   "cell_type": "markdown",
   "id": "13662228",
   "metadata": {
    "slideshow": {
     "slide_type": "subslide"
    }
   },
   "source": [
    "## Usare il chunking (spezzettamento)"
   ]
  },
  {
   "cell_type": "markdown",
   "id": "e73a132d",
   "metadata": {
    "cell_style": "center"
   },
   "source": [
    "Possiamo iterare sul dataset a pezzi (chunk) e performare delle operazioni senza dover caricare l'intero dataset in memoria"
   ]
  },
  {
   "cell_type": "code",
   "execution_count": null,
   "id": "cde0b1dc",
   "metadata": {
    "cell_style": "center",
    "slideshow": {
     "slide_type": "fragment"
    }
   },
   "outputs": [],
   "source": [
    "prezzi_per_genere = None\n",
    "with pd.read_csv('big_games.csv', chunksize=85_000) as reader:\n",
    "    for i, chunk in enumerate(reader):\n",
    "        chunk['Genres'] = chunk['Genres'].str.split(',')  # trasformiamo i generi in una lista\n",
    "        chunk_genere_esploso = chunk.explode('Genres')  # ogni riga viene duplicata per ciascun genere nella lista\n",
    "        \n",
    "        chunk_prezzo_per_genere = chunk_genere_esploso.groupby('Genres')['Price'].sum()\n",
    "        \n",
    "        if prezzi_per_genere is None:\n",
    "            prezzi_per_genere = chunk_prezzo_per_genere\n",
    "        else:\n",
    "            prezzi_per_genere.add(chunk_prezzo_per_genere, fill_value=0)\n",
    "        \n",
    "        print(f\"Operazioni sul chunk #{i + 1} (lunghezza: {len(chunk)} righe) terminate\")"
   ]
  },
  {
   "cell_type": "code",
   "execution_count": null,
   "id": "e705f9f9",
   "metadata": {
    "cell_style": "center",
    "slideshow": {
     "slide_type": "subslide"
    }
   },
   "outputs": [],
   "source": [
    "prezzi_per_genere"
   ]
  },
  {
   "cell_type": "markdown",
   "id": "baf5b72e",
   "metadata": {
    "slideshow": {
     "slide_type": "subslide"
    }
   },
   "source": [
    "## Estensioni di Pandas (cuDF e Dask)"
   ]
  },
  {
   "cell_type": "code",
   "execution_count": null,
   "id": "d4a30e9c",
   "metadata": {
    "cell_style": "split"
   },
   "outputs": [],
   "source": [
    "%load_ext cudf.pandas\n",
    "import pandas as pd\n",
    "\n",
    "# ! La libreria cuDF è installabile solo su UNIX con GPU"
   ]
  },
  {
   "cell_type": "code",
   "execution_count": null,
   "id": "b9d5ea83",
   "metadata": {
    "cell_style": "split",
    "slideshow": {
     "slide_type": "fragment"
    }
   },
   "outputs": [],
   "source": [
    "%%time\n",
    "\n",
    "import dask.dataframe as dd\n",
    "\n",
    "dask_df = dd.read_csv(\n",
    "    'big_games.csv',\n",
    "    dtype={\n",
    "        'Metacritic url': 'object',\n",
    "        'Reviews': 'object'\n",
    "    }\n",
    ")"
   ]
  },
  {
   "cell_type": "code",
   "execution_count": null,
   "id": "11fcab5f",
   "metadata": {},
   "outputs": [],
   "source": [
    "dask_df"
   ]
  },
  {
   "cell_type": "code",
   "execution_count": null,
   "id": "88362000",
   "metadata": {
    "slideshow": {
     "slide_type": "subslide"
    }
   },
   "outputs": [],
   "source": [
    "result = dask_df['Price'] ** 2\n",
    "result = result.mean()\n",
    "\n",
    "result.dask"
   ]
  },
  {
   "cell_type": "code",
   "execution_count": null,
   "id": "b42d3511",
   "metadata": {
    "scrolled": true,
    "slideshow": {
     "slide_type": "fragment"
    }
   },
   "outputs": [],
   "source": [
    "%%time\n",
    "\n",
    "result.compute()"
   ]
  },
  {
   "cell_type": "markdown",
   "id": "7290914a",
   "metadata": {
    "slideshow": {
     "slide_type": "slide"
    }
   },
   "source": [
    "# Salto di qualità: Polars"
   ]
  },
  {
   "cell_type": "markdown",
   "id": "c38e2874",
   "metadata": {},
   "source": [
    "Polars è un'alternativa a Pandas implementata con Rust, un linguaggio di programmazione all'avanguardia"
   ]
  },
  {
   "cell_type": "markdown",
   "id": "28a15f58",
   "metadata": {
    "slideshow": {
     "slide_type": "fragment"
    }
   },
   "source": [
    "Polars supporta lazy evaluation, ottimizzazione delle query e tutte le operazioni vengono eseguite tramite Rust"
   ]
  },
  {
   "cell_type": "markdown",
   "id": "27e3bb0a",
   "metadata": {
    "slideshow": {
     "slide_type": "fragment"
    }
   },
   "source": [
    "È quindi consigliato utilizzare il più possibile le funzionalità di Polars per non incorrere nel problema del Global Interpreter Lock (GIL) in Python e permettere a Polars di fare computazioni in multiprocessing con Rust"
   ]
  },
  {
   "cell_type": "code",
   "execution_count": null,
   "id": "049e644c",
   "metadata": {},
   "outputs": [],
   "source": [
    "import polars as pl\n",
    "\n",
    "pl.Config().set_tbl_rows(6)"
   ]
  },
  {
   "cell_type": "markdown",
   "id": "98f8c88b",
   "metadata": {
    "slideshow": {
     "slide_type": "subslide"
    }
   },
   "source": [
    "## I/O in Polars"
   ]
  },
  {
   "cell_type": "code",
   "execution_count": null,
   "id": "2edca53f",
   "metadata": {
    "cell_style": "split",
    "slideshow": {
     "slide_type": "-"
    }
   },
   "outputs": [],
   "source": [
    "%%time\n",
    "\n",
    "# Polars\n",
    "polars_df = pl.read_csv('big_games.csv', separator=',')"
   ]
  },
  {
   "cell_type": "code",
   "execution_count": null,
   "id": "3ea8a8e0",
   "metadata": {
    "cell_style": "split",
    "slideshow": {
     "slide_type": "-"
    }
   },
   "outputs": [],
   "source": [
    "%%time \n",
    "\n",
    "# Pandas\n",
    "pandas_df = pd.read_csv('big_games.csv', sep=',')"
   ]
  },
  {
   "cell_type": "code",
   "execution_count": null,
   "id": "449c5f7a",
   "metadata": {
    "cell_style": "split",
    "slideshow": {
     "slide_type": "fragment"
    }
   },
   "outputs": [],
   "source": [
    "%%time\n",
    "\n",
    "#Polars\n",
    "polars_df.write_csv('big_games.csv')"
   ]
  },
  {
   "cell_type": "code",
   "execution_count": null,
   "id": "2dc36f47",
   "metadata": {
    "cell_style": "split"
   },
   "outputs": [],
   "source": [
    "%%time\n",
    "\n",
    "#Pandas\n",
    "pandas_df.to_csv('big_games.csv', index=False)"
   ]
  },
  {
   "cell_type": "markdown",
   "id": "79defe27",
   "metadata": {
    "slideshow": {
     "slide_type": "subslide"
    }
   },
   "source": [
    "### Qual è la principale differenza fra questi dataframe?"
   ]
  },
  {
   "cell_type": "code",
   "execution_count": null,
   "id": "cde84174",
   "metadata": {
    "cell_style": "split",
    "slideshow": {
     "slide_type": "-"
    }
   },
   "outputs": [],
   "source": [
    "polars_df"
   ]
  },
  {
   "cell_type": "code",
   "execution_count": null,
   "id": "9a7b6729",
   "metadata": {
    "cell_style": "split",
    "slideshow": {
     "slide_type": "-"
    }
   },
   "outputs": [],
   "source": [
    "pandas_df"
   ]
  },
  {
   "cell_type": "markdown",
   "id": "9fe37442",
   "metadata": {
    "slideshow": {
     "slide_type": "subslide"
    }
   },
   "source": [
    "Polars non usa indice sul dataframe, portando a un risparmio di memoria e complessità causate dall'uso dell'indice su Pandas"
   ]
  },
  {
   "cell_type": "markdown",
   "id": "d65ede29",
   "metadata": {
    "slideshow": {
     "slide_type": "fragment"
    }
   },
   "source": [
    "Polars propone strumenti diversi da Pandas per interagire con i dati nel DataFrame che portano alla sua estrema performance"
   ]
  },
  {
   "cell_type": "markdown",
   "id": "5cde1732",
   "metadata": {
    "slideshow": {
     "slide_type": "fragment"
    }
   },
   "source": [
    "Gli strumenti principali sono i contesti (*context*) e le esperessioni (*expressions*)"
   ]
  },
  {
   "cell_type": "markdown",
   "id": "464b8ea8",
   "metadata": {
    "slideshow": {
     "slide_type": "subslide"
    }
   },
   "source": [
    "## Polars Contexts"
   ]
  },
  {
   "cell_type": "markdown",
   "id": "a58117b2",
   "metadata": {
    "slideshow": {
     "slide_type": ""
    }
   },
   "source": [
    "Un *context* in Polars e il contesto in cui un'espressione viene valutata"
   ]
  },
  {
   "cell_type": "markdown",
   "id": "e5d011a2",
   "metadata": {
    "slideshow": {
     "slide_type": ""
    }
   },
   "source": [
    "Vuol dire che una certa espressione avrà un effetto diverso a seconda del contesto in cui si trova"
   ]
  },
  {
   "cell_type": "markdown",
   "id": "560c89f4",
   "metadata": {
    "slideshow": {
     "slide_type": "fragment"
    }
   },
   "source": [
    "Polars offre 3 tipi di contesto:\n",
    "- Selection: `df.select(...)` e `df.with_columns(...)`\n",
    "- Filtering: `df.filter(...)`\n",
    "- Aggregation: `df.group_by(...).agg(...)`"
   ]
  },
  {
   "cell_type": "markdown",
   "id": "22b2ed8f",
   "metadata": {
    "slideshow": {
     "slide_type": "subslide"
    }
   },
   "source": [
    "### Selection (selezione)"
   ]
  },
  {
   "cell_type": "code",
   "execution_count": null,
   "id": "9c57367f",
   "metadata": {},
   "outputs": [],
   "source": [
    "polars_df.select(\n",
    "    pl.max(\"Required age\"),\n",
    "    pl.col(\"About the game\").str.len_chars().alias('Text Length \"About the game\"'),\n",
    "    (pl.mean(\"Price\") / 100).alias('Price_100')\n",
    ")"
   ]
  },
  {
   "cell_type": "code",
   "execution_count": null,
   "id": "a47caa51",
   "metadata": {
    "cell_style": "split",
    "slideshow": {
     "slide_type": "subslide"
    }
   },
   "outputs": [],
   "source": [
    "polars_df.select(\n",
    "    pl.max(\"Required age\")\n",
    ")"
   ]
  },
  {
   "cell_type": "code",
   "execution_count": null,
   "id": "76a85360",
   "metadata": {
    "cell_style": "split",
    "slideshow": {
     "slide_type": "fragment"
    }
   },
   "outputs": [],
   "source": [
    "polars_df.select(\n",
    "    (pl.mean(\"Price\") / 100).alias('Price_100')\n",
    ")"
   ]
  },
  {
   "cell_type": "code",
   "execution_count": null,
   "id": "6415dc66",
   "metadata": {
    "slideshow": {
     "slide_type": "fragment"
    }
   },
   "outputs": [],
   "source": [
    "polars_df.select(\n",
    "    pl.col(\"About the game\").str.len_chars().alias('Text Length \"About the game\"')\n",
    ")"
   ]
  },
  {
   "cell_type": "markdown",
   "id": "769b0096",
   "metadata": {
    "slideshow": {
     "slide_type": "subslide"
    }
   },
   "source": [
    "### with_columns (selezione con aggiunta o sovrascrittura)"
   ]
  },
  {
   "cell_type": "markdown",
   "id": "e63920bb",
   "metadata": {},
   "source": [
    "In Pandas aggiungere delle colonne e sovrascriverle è più macchinoso e necessità più boilerplate code"
   ]
  },
  {
   "cell_type": "code",
   "execution_count": null,
   "id": "700b5c6e",
   "metadata": {},
   "outputs": [],
   "source": [
    "polars_df.with_columns(\n",
    "    (pl.col(\"DLC count\") > 0).alias(\"Has DLC\"),\n",
    "    pl.col(\"Price\") * 100,\n",
    "    Many_achievements=pl.col(\"Achievements\") > 50\n",
    ")"
   ]
  },
  {
   "cell_type": "markdown",
   "id": "a6b034d2",
   "metadata": {
    "slideshow": {
     "slide_type": "subslide"
    }
   },
   "source": [
    "### Filtering"
   ]
  },
  {
   "cell_type": "markdown",
   "id": "ed6ff03f",
   "metadata": {},
   "source": [
    "Il filtering su Polars può essere visto come l'indicizzazione booleana su Pandas, es. `pandas_df[pandas_df['Price'] > 50]`"
   ]
  },
  {
   "cell_type": "code",
   "execution_count": null,
   "id": "fc8157c5",
   "metadata": {},
   "outputs": [],
   "source": [
    "polars_df.filter(\n",
    "    pl.col(\"Achievements\") > 50,\n",
    "    (pl.col(\"Recommendations\") > 200) & (pl.col(\"Positive\") > pl.col(\"Negative\"))\n",
    ")"
   ]
  },
  {
   "cell_type": "markdown",
   "id": "f3513d41",
   "metadata": {
    "slideshow": {
     "slide_type": "subslide"
    }
   },
   "source": [
    "## Polars Expressions"
   ]
  },
  {
   "cell_type": "markdown",
   "id": "b7ce8fd4",
   "metadata": {},
   "source": [
    "Le espressioni in Polars sono strumenti potenti per effettuare operazioni in maniera parallela in un determinato context"
   ]
  },
  {
   "cell_type": "markdown",
   "id": "5331259b",
   "metadata": {
    "slideshow": {
     "slide_type": "fragment"
    }
   },
   "source": [
    "Molti dei comandi che abbiamo visto in precedenza hanno fatto uso di expressions. Per esempio:"
   ]
  },
  {
   "cell_type": "code",
   "execution_count": null,
   "id": "eab5c68b",
   "metadata": {},
   "outputs": [],
   "source": [
    "pl.col(\"Price\").sort().pow(3).log(10)"
   ]
  },
  {
   "cell_type": "markdown",
   "id": "e096d44e",
   "metadata": {
    "slideshow": {
     "slide_type": "fragment"
    }
   },
   "source": [
    "Ogni espressione ne genera un'altra, quindi possono essere concatenate per fare operazioni più complesse"
   ]
  },
  {
   "cell_type": "markdown",
   "id": "be6d0e68",
   "metadata": {
    "slideshow": {
     "slide_type": "subslide"
    }
   },
   "source": [
    "### Espressioni numeriche e logiche"
   ]
  },
  {
   "cell_type": "code",
   "execution_count": null,
   "id": "bc050199",
   "metadata": {
    "cell_style": "center"
   },
   "outputs": [],
   "source": [
    "polars_df.select(\n",
    "    pl.col(\"Price\"),\n",
    "    (pl.col(\"Price\") * 2).alias(\"Double Price\"),\n",
    "    (pl.col(\"Price\") * pl.col(\"DLC count\") / pl.col(\"Positive\")).alias(\"Price-DLC-Positive\"),\n",
    "    ((pl.col(\"Price\") > 20) & (pl.col(\"DLC count\") > 1)).alias(\"Pricey Games with DLC\")\n",
    ")"
   ]
  },
  {
   "cell_type": "markdown",
   "id": "391a9394",
   "metadata": {
    "cell_style": "center",
    "slideshow": {
     "slide_type": "subslide"
    }
   },
   "source": [
    "### Selezione avanzata"
   ]
  },
  {
   "cell_type": "markdown",
   "id": "131e481f",
   "metadata": {
    "cell_style": "split"
   },
   "source": [
    "Selezione multipla"
   ]
  },
  {
   "cell_type": "code",
   "execution_count": null,
   "id": "46a81bdd",
   "metadata": {
    "cell_style": "split"
   },
   "outputs": [],
   "source": [
    "polars_df.select(\n",
    "    pl.col([\"Price\", \"DLC count\", \"Achievements\"])\n",
    ").head(3)"
   ]
  },
  {
   "cell_type": "markdown",
   "id": "63e0b45a",
   "metadata": {
    "slideshow": {
     "slide_type": "fragment"
    }
   },
   "source": [
    "---"
   ]
  },
  {
   "cell_type": "markdown",
   "id": "9be9a4ad",
   "metadata": {
    "cell_style": "split",
    "slideshow": {
     "slide_type": "-"
    }
   },
   "source": [
    "Selezione con esclusione"
   ]
  },
  {
   "cell_type": "code",
   "execution_count": null,
   "id": "f465aa1e",
   "metadata": {
    "cell_style": "split"
   },
   "outputs": [],
   "source": [
    "polars_df.select(\n",
    "    pl.all().exclude(\"Name\", \"Release Date\")\n",
    ").head(3)"
   ]
  },
  {
   "cell_type": "markdown",
   "id": "de1ccc01",
   "metadata": {
    "cell_style": "center",
    "slideshow": {
     "slide_type": "subslide"
    }
   },
   "source": [
    "Una volta selezionate delle colonne possiamo applicare la stessa operazione ad esse"
   ]
  },
  {
   "cell_type": "code",
   "execution_count": null,
   "id": "04d1d395",
   "metadata": {
    "slideshow": {
     "slide_type": "-"
    }
   },
   "outputs": [],
   "source": [
    "polars_df.select(\n",
    "    pl.col([\"Price\", \"DLC count\", \"Achievements\"]).exp().cast(pl.String)\n",
    ").head(3)"
   ]
  },
  {
   "cell_type": "markdown",
   "id": "7fd06d04",
   "metadata": {
    "cell_style": "center",
    "slideshow": {
     "slide_type": "fragment"
    }
   },
   "source": [
    "Oppure possiamo sfruttare i `selectors` per selezionare con modalità più avanzate"
   ]
  },
  {
   "cell_type": "code",
   "execution_count": null,
   "id": "7bdf52b7",
   "metadata": {
    "slideshow": {
     "slide_type": "-"
    }
   },
   "outputs": [],
   "source": [
    "import polars.selectors as cs\n",
    "\n",
    "polars_df.select(\n",
    "    cs.numeric().exp().cast(pl.String)\n",
    ").head(3)"
   ]
  },
  {
   "cell_type": "markdown",
   "id": "6dbfecdf",
   "metadata": {
    "slideshow": {
     "slide_type": "subslide"
    }
   },
   "source": [
    "### Funzioni condizionali"
   ]
  },
  {
   "cell_type": "markdown",
   "id": "2ef88bb1",
   "metadata": {},
   "source": [
    "Polars supporta le condizioni if-else in maniera simile a Rust con il costrutto when-then-otherwise"
   ]
  },
  {
   "cell_type": "code",
   "execution_count": null,
   "id": "443451ac",
   "metadata": {
    "cell_style": "center"
   },
   "outputs": [],
   "source": [
    "polars_df.select(\n",
    "    pl.when(pl.col(\"Price\") > 15)\n",
    "    .then(pl.lit(\"Caro\"))\n",
    "    .otherwise(pl.lit(\"Economico\"))\n",
    "    .alias(\"Merita l'acquisto?\")\n",
    ")"
   ]
  },
  {
   "cell_type": "markdown",
   "id": "21e04051",
   "metadata": {
    "slideshow": {
     "slide_type": "subslide"
    }
   },
   "source": [
    "### Funzioni per le stringhe"
   ]
  },
  {
   "cell_type": "markdown",
   "id": "fcb286e0",
   "metadata": {},
   "source": [
    "Polars supporta funzioni speciali per le stringhe, a cui è possibile accedere tramite l'accessor `.str` come Pandas"
   ]
  },
  {
   "cell_type": "code",
   "execution_count": null,
   "id": "a7ea0e84",
   "metadata": {},
   "outputs": [],
   "source": [
    "polars_df.select(\n",
    "    pl.col(\"Name\"),\n",
    "    pl.col(\"Name\").str.contains(\"Project\").alias(\"Project Game\"),\n",
    "    pl.col(\"Name\").str.contains(\".* (B|W).*\").alias(\"Parole dopo la prima iniziano per B o W\"),\n",
    "    pl.col(\"Name\").str.replace(\"Train\", \"Trenitalia\").alias(\"Giochi su Trenitalia\"),\n",
    "    pl.col(\"Name\").str.split(' ').alias(\"Lista Name\")\n",
    ")"
   ]
  },
  {
   "cell_type": "markdown",
   "id": "ab7032b6",
   "metadata": {
    "slideshow": {
     "slide_type": "subslide"
    }
   },
   "source": [
    "### Dati mancani (null)"
   ]
  },
  {
   "cell_type": "markdown",
   "id": "6dd05237",
   "metadata": {},
   "source": [
    "Pandas ha vari modi per definire i tipi nulli (`pd.NA`, `None`, `nan`). Polars usa solo `null`, mentre `NaN` (equivalente a `nan`) è un valore float specifico, non un valore nullo."
   ]
  },
  {
   "cell_type": "code",
   "execution_count": null,
   "id": "0574371b",
   "metadata": {
    "cell_style": "split"
   },
   "outputs": [],
   "source": [
    "null_df = polars_df.select(\n",
    "    pl.col(\"Price\"),\n",
    "    pl.col(\"Tags\"),\n",
    "    pl.col(\"Tags\").is_null().alias(\"null\")\n",
    ")\n",
    "null_df"
   ]
  },
  {
   "cell_type": "code",
   "execution_count": null,
   "id": "c42ea740",
   "metadata": {
    "cell_style": "split",
    "slideshow": {
     "slide_type": "fragment"
    }
   },
   "outputs": [],
   "source": [
    "null_df.select(\n",
    "    pl.col(\"Price\"),\n",
    "    (0 / pl.col(\"Price\")).alias(\"10_diviso_Price\"),\n",
    "    (0 / pl.col(\"Price\")).is_null().alias(\"null\")\n",
    ")"
   ]
  },
  {
   "cell_type": "markdown",
   "id": "587fd479",
   "metadata": {
    "slideshow": {
     "slide_type": "subslide"
    }
   },
   "source": [
    "### Aggregazioni colonnari (window functions)"
   ]
  },
  {
   "cell_type": "markdown",
   "id": "2220344b",
   "metadata": {},
   "source": [
    "Prima di vedere le aggregazioni vere e proprie, vediamo le *window functions*, un tipo di aggregazioni che Polars fornisce per aggregare valori sulla base dei valori di altre colonne."
   ]
  },
  {
   "cell_type": "code",
   "execution_count": null,
   "id": "c8664e57",
   "metadata": {
    "cell_style": "center"
   },
   "outputs": [],
   "source": [
    "polars_df.sort(\"Required age\").select(\n",
    "    pl.col(\"Required age\"),\n",
    "    pl.col(\"Price\").mean().over(\"Required age\")\n",
    ")"
   ]
  },
  {
   "cell_type": "markdown",
   "id": "4e38f40a",
   "metadata": {
    "slideshow": {
     "slide_type": "fragment"
    }
   },
   "source": [
    "Le operazioni window non sono semplici da utilizzare, ma sono molto potenti quando necessarie"
   ]
  },
  {
   "cell_type": "markdown",
   "id": "5bb912ef",
   "metadata": {
    "slideshow": {
     "slide_type": "subslide"
    }
   },
   "source": [
    "### Operazioni orizzontali e Folds"
   ]
  },
  {
   "cell_type": "markdown",
   "id": "1e552c0a",
   "metadata": {},
   "source": [
    "Polars permette anche di aggregare le colonne in maniera orizzontale.\n",
    "\n",
    "Questo può essere fatto tramite delle funzioni fornite da Polars oppure tramite i *folds* per eseguire operazioni di riduzione scritte dall'utente."
   ]
  },
  {
   "cell_type": "code",
   "execution_count": null,
   "id": "14924fb7",
   "metadata": {
    "cell_style": "split"
   },
   "outputs": [],
   "source": [
    "polars_df.sort(\"DLC count\", descending=False).select(\n",
    "    pl.col([\"Price\", \"DLC count\"]),\n",
    "    pl.sum_horizontal(\n",
    "        \"Price\", \"DLC count\"\n",
    "    ).alias(\"price_dlc_sum\")\n",
    ").tail()"
   ]
  },
  {
   "cell_type": "code",
   "execution_count": null,
   "id": "2c7ff89a",
   "metadata": {
    "cell_style": "split"
   },
   "outputs": [],
   "source": [
    "polars_df.sort(\"DLC count\", descending=False).select(\n",
    "    pl.col([\"Price\", \"DLC count\"]),\n",
    "    pl.fold(\n",
    "        acc=pl.lit(1),\n",
    "        function=lambda acc, x: acc * x,\n",
    "        exprs=pl.col([\"Price\", \"DLC count\"])\n",
    "    ).alias(\"price_dlc_prod\")\n",
    ").tail()"
   ]
  },
  {
   "cell_type": "markdown",
   "id": "db4563a4",
   "metadata": {
    "slideshow": {
     "slide_type": "subslide"
    }
   },
   "source": [
    "### Liste e Array"
   ]
  },
  {
   "cell_type": "markdown",
   "id": "08bf19fc",
   "metadata": {},
   "source": [
    "A differenza di Pandas, Polars supporta in maniera nativa liste e array, senza doverle rappresentare come semplici `object`"
   ]
  },
  {
   "cell_type": "code",
   "execution_count": null,
   "id": "75196d9d",
   "metadata": {
    "cell_style": "split",
    "scrolled": true
   },
   "outputs": [],
   "source": [
    "list_df = polars_df.select(\n",
    "    pl.col(\"Name\"),\n",
    "    pl.col(\"Tags\").str.split(',')\n",
    ")\n",
    "list_df.head()"
   ]
  },
  {
   "cell_type": "code",
   "execution_count": null,
   "id": "9e770c21",
   "metadata": {
    "cell_style": "split"
   },
   "outputs": [],
   "source": [
    "list_df.with_columns(\n",
    "    pl.col(\"Tags\").list.contains(\"Indie\").alias(\"Indie\")\n",
    ").slice(5, 5)"
   ]
  },
  {
   "cell_type": "markdown",
   "id": "afdf92a3",
   "metadata": {
    "cell_style": "center",
    "slideshow": {
     "slide_type": "subslide"
    }
   },
   "source": [
    "Si possono fare diverse operazioni sulle liste. Per esempio rimuovere da tutti i termini *Action* e *Adventure*."
   ]
  },
  {
   "cell_type": "code",
   "execution_count": null,
   "id": "81ff3a0e",
   "metadata": {
    "cell_style": "center",
    "slideshow": {
     "slide_type": ""
    }
   },
   "outputs": [],
   "source": [
    "list_df.with_columns(\n",
    "    pl.col(\"Tags\").list.set_difference([\"Action\", \"Adventure\"]).alias(\"no Action or Adventure\")\n",
    ").slice(5, 5)"
   ]
  },
  {
   "cell_type": "markdown",
   "id": "b56d20a2",
   "metadata": {
    "slideshow": {
     "slide_type": "subslide"
    }
   },
   "source": [
    "A volte può essere utile ripetere lo stesso dato e associare a ciascuno valori diversi. Questo si fa tramite l'*esplosione* della lista, un concetto comune anche a Pandas"
   ]
  },
  {
   "cell_type": "code",
   "execution_count": null,
   "id": "456308c5",
   "metadata": {
    "cell_style": "center"
   },
   "outputs": [],
   "source": [
    "list_df.explode('Tags')"
   ]
  },
  {
   "cell_type": "markdown",
   "id": "6140461b",
   "metadata": {
    "slideshow": {
     "slide_type": "subslide"
    }
   },
   "source": [
    "## Aggregazioni (group_by)"
   ]
  },
  {
   "cell_type": "code",
   "execution_count": null,
   "id": "09e71caf",
   "metadata": {
    "cell_style": "split"
   },
   "outputs": [],
   "source": [
    "polars_df.group_by(\"Required age\").agg(\n",
    "    pl.col(\"Price\").mean().round(2).alias(\"Avg Price\"),\n",
    "    pl.col(\"Tags\").str.split(',').len().alias(\"# Tags\")\n",
    ").sort(\"Required age\").head()"
   ]
  },
  {
   "cell_type": "code",
   "execution_count": null,
   "id": "0040c879",
   "metadata": {
    "cell_style": "split",
    "slideshow": {
     "slide_type": "fragment"
    }
   },
   "outputs": [],
   "source": [
    "polars_df.group_by(\"Required age\").agg(\n",
    "    (pl.col(\"Price\") > 30).sum().alias(\"# Cari\"),\n",
    "    (pl.col(\"Price\") < 10).sum().alias(\"# Economici\")\n",
    ").sort(\"Required age\").head()"
   ]
  },
  {
   "cell_type": "markdown",
   "id": "9377e5bb",
   "metadata": {
    "slideshow": {
     "slide_type": "fragment"
    }
   },
   "source": [
    "Queste operazioni sono ottimizzate perché vengono parallelizzate in Rust. Se applicate una funzione Python a ogni gruppo ciclato da `group_by` allora il codice non verrà parallelizzato (a meno che la funzione non utilizzi solo Polars expressions)."
   ]
  },
  {
   "cell_type": "markdown",
   "id": "07297f9c",
   "metadata": {
    "slideshow": {
     "slide_type": "subslide"
    }
   },
   "source": [
    "## Join"
   ]
  },
  {
   "cell_type": "markdown",
   "id": "c5240ec9",
   "metadata": {},
   "source": [
    "Estraiamo dal dataset tutti i giochi per cui il gruppo di età richiesta ha un prezzo medio maggiore di 10. Questo può essere fatto tramite una group_by e poi una join col nuovo dataframe."
   ]
  },
  {
   "cell_type": "code",
   "execution_count": null,
   "id": "89fef4ff",
   "metadata": {
    "cell_style": "split"
   },
   "outputs": [],
   "source": [
    "avg_price_per_age = (\n",
    "    polars_df\n",
    "    .group_by(\"Required age\")\n",
    "    .agg(\n",
    "        pl.col(\"AppID\"),\n",
    "        pl.col(\"Price\").mean().round(2).alias(\"Avg Price\")\n",
    "    )\n",
    "    .filter(pl.col(\"Avg Price\") > 10)\n",
    "    .explode(\"AppID\")\n",
    ")\n",
    "avg_price_per_age"
   ]
  },
  {
   "cell_type": "code",
   "execution_count": null,
   "id": "15f60c52",
   "metadata": {
    "cell_style": "split",
    "slideshow": {
     "slide_type": "fragment"
    }
   },
   "outputs": [],
   "source": [
    "polars_df.join(\n",
    "    avg_price_per_age,\n",
    "    on=\"AppID\",\n",
    "    how=\"semi\"\n",
    ")"
   ]
  },
  {
   "cell_type": "markdown",
   "id": "7cfd65d4",
   "metadata": {
    "slideshow": {
     "slide_type": "subslide"
    }
   },
   "source": [
    "## Lazy API"
   ]
  },
  {
   "cell_type": "markdown",
   "id": "8156e9bb",
   "metadata": {},
   "source": [
    "L'API Lazy (pigra) di Polars esegue le operazioni solo quando richiesto, permettendo a Polars di ottimizzare il processo di computazione e fornendo pure strumenti per lavorare con dataset di grandi dimensioni. Per sfruttare la Lazy API su un file bisogna *scansionare* (`scan_csv`) il file."
   ]
  },
  {
   "cell_type": "code",
   "execution_count": null,
   "id": "b507dd63",
   "metadata": {
    "cell_style": "split"
   },
   "outputs": [],
   "source": [
    "polars_df.lazy()"
   ]
  },
  {
   "cell_type": "code",
   "execution_count": null,
   "id": "9e2b5c6b",
   "metadata": {
    "cell_style": "split",
    "slideshow": {
     "slide_type": "fragment"
    }
   },
   "outputs": [],
   "source": [
    "pl.scan_csv('big_games.csv')"
   ]
  },
  {
   "cell_type": "markdown",
   "id": "d417dc76",
   "metadata": {
    "slideshow": {
     "slide_type": "subslide"
    }
   },
   "source": [
    "L'operazione genera un grafo computazionale (simile a quello usato dalle librerie di ML come TensorFlow e PyTorch)"
   ]
  },
  {
   "cell_type": "code",
   "execution_count": null,
   "id": "db89351f",
   "metadata": {},
   "outputs": [],
   "source": [
    "result = (\n",
    "    polars_df.lazy()\n",
    "    .group_by(\"Required age\")\n",
    "    .agg(\n",
    "        pl.col(\"AppID\"),\n",
    "        pl.col(\"Price\").mean().round(2).alias(\"Avg Price\")\n",
    "    )\n",
    "    .filter(pl.col(\"Avg Price\") > 10)\n",
    "    .explode(\"AppID\")\n",
    ")\n",
    "result.show_graph()"
   ]
  },
  {
   "cell_type": "markdown",
   "id": "47d63a0a",
   "metadata": {
    "slideshow": {
     "slide_type": "subslide"
    }
   },
   "source": [
    "Una volta generato il grafo, si può chiamare il metodo `collect()` per ottenere il risultato"
   ]
  },
  {
   "cell_type": "code",
   "execution_count": null,
   "id": "1d6b0fd3",
   "metadata": {},
   "outputs": [],
   "source": [
    "result.collect()"
   ]
  },
  {
   "cell_type": "markdown",
   "id": "9cf73f72",
   "metadata": {
    "slideshow": {
     "slide_type": "subslide"
    }
   },
   "source": [
    "A quanto ammontano l'ottimizzazione fornita dalla Lazy API di Polars?"
   ]
  },
  {
   "cell_type": "code",
   "execution_count": null,
   "id": "2606c8f1",
   "metadata": {
    "cell_style": "split"
   },
   "outputs": [],
   "source": [
    "%%time\n",
    "\n",
    "lazy_df = pl.scan_csv('big_games.csv')\n",
    "\n",
    "result = (\n",
    "    lazy_df\n",
    "    .group_by(\"Required age\")\n",
    "    .agg(\n",
    "        pl.col(\"AppID\"),\n",
    "        pl.col(\"Price\").mean().round(2).alias(\"Avg Price\")\n",
    "    )\n",
    "    .filter(pl.col(\"Avg Price\") > 10)\n",
    "    .explode(\"AppID\")\n",
    ")\n",
    "result.collect()"
   ]
  },
  {
   "cell_type": "code",
   "execution_count": null,
   "id": "d7c880a0",
   "metadata": {
    "cell_style": "split"
   },
   "outputs": [],
   "source": [
    "%%time\n",
    "\n",
    "eager_df = pl.read_csv('big_games.csv')\n",
    "(\n",
    "    eager_df.group_by(\"Required age\")\n",
    "    .agg(\n",
    "        pl.col(\"AppID\"),\n",
    "        pl.col(\"Price\").mean().round(2).alias(\"Avg Price\")\n",
    "    )\n",
    "    .filter(pl.col(\"Avg Price\") > 10)\n",
    "    .explode(\"AppID\")\n",
    ")"
   ]
  },
  {
   "cell_type": "markdown",
   "id": "e810a41f",
   "metadata": {
    "cell_style": "center",
    "slideshow": {
     "slide_type": "slide"
    }
   },
   "source": [
    "# Comparazione operazioni e velocità con Pandas"
   ]
  },
  {
   "cell_type": "markdown",
   "id": "ebaaef31",
   "metadata": {
    "slideshow": {
     "slide_type": "-"
    }
   },
   "source": [
    "Iniziamo con l'esempio precedente sfruttando la Lazy API di Polars"
   ]
  },
  {
   "cell_type": "code",
   "execution_count": null,
   "id": "ca05ade5",
   "metadata": {
    "cell_style": "split"
   },
   "outputs": [],
   "source": [
    "%%time\n",
    "\n",
    "lazy_df = pl.scan_csv('big_games.csv')\n",
    "\n",
    "result = (\n",
    "    lazy_df\n",
    "    .group_by(\"Required age\")\n",
    "    .agg(\n",
    "        pl.col(\"AppID\"),\n",
    "        pl.col(\"Price\").mean().round(2).alias(\"Avg Price\")\n",
    "    )\n",
    "    .filter(pl.col(\"Avg Price\") > 10)\n",
    "    .explode(\"AppID\")\n",
    ")\n",
    "result.collect()"
   ]
  },
  {
   "cell_type": "code",
   "execution_count": null,
   "id": "09a00951",
   "metadata": {
    "cell_style": "split"
   },
   "outputs": [],
   "source": [
    "%%time\n",
    "\n",
    "pandas_df = pd.read_csv('big_games.csv')\n",
    "\n",
    "agg_params = {\n",
    "    \"AppID\": pd.NamedAgg(\n",
    "        column=\"AppID\", aggfunc=lambda x: x.tolist()\n",
    "    ),\n",
    "    \"Avg Price\": pd.NamedAgg(\n",
    "        column=\"Price\", aggfunc=lambda x: x.mean().round(2)\n",
    "    )\n",
    "}\n",
    "pandas_df.groupby(\"Required age\").agg(\n",
    "    **agg_params\n",
    ").query(\n",
    "    \"`Avg Price` > 10\"\n",
    ").explode(\"AppID\") "
   ]
  },
  {
   "cell_type": "markdown",
   "id": "0e131368",
   "metadata": {
    "slideshow": {
     "slide_type": "subslide"
    }
   },
   "source": [
    "Per operazioni semplici, la Lazy API può però portare all'esecuzione di codice superfluo e oneroso"
   ]
  },
  {
   "cell_type": "code",
   "execution_count": null,
   "id": "adb7440a",
   "metadata": {
    "cell_style": "split"
   },
   "outputs": [],
   "source": [
    "%%time\n",
    "\n",
    "lazy_df.with_columns(\n",
    "    (pl.col(\"Achievements\") * 1000).pow(2) / 7\n",
    ").collect()"
   ]
  },
  {
   "cell_type": "code",
   "execution_count": null,
   "id": "cd8cdaa6",
   "metadata": {
    "cell_style": "split"
   },
   "outputs": [],
   "source": [
    "%%time\n",
    "\n",
    "pandas_df[\"Achievements\"] = (\n",
    "    (pandas_df[\"Achievements\"] * 1000).pow(2) / 7\n",
    ")\n",
    "pandas_df"
   ]
  },
  {
   "cell_type": "markdown",
   "id": "3d88bd97",
   "metadata": {
    "slideshow": {
     "slide_type": "subslide"
    }
   },
   "source": [
    "Lo stesso esempio senza utilizzare la Lazy API è molto più performante e mediamente migliore di Pandas"
   ]
  },
  {
   "cell_type": "code",
   "execution_count": null,
   "id": "d1bba8ca",
   "metadata": {
    "cell_style": "split"
   },
   "outputs": [],
   "source": [
    "%%time\n",
    "\n",
    "polars_df.with_columns(\n",
    "    (pl.col(\"Achievements\") * 1000).pow(2) / 7\n",
    ")"
   ]
  },
  {
   "cell_type": "code",
   "execution_count": null,
   "id": "6436cc21",
   "metadata": {
    "cell_style": "split"
   },
   "outputs": [],
   "source": [
    "%%time\n",
    "\n",
    "pandas_df[\"Achievements\"] = (\n",
    "    (pandas_df[\"Achievements\"] * 1000).pow(2) / 7\n",
    ")\n",
    "pandas_df"
   ]
  },
  {
   "cell_type": "markdown",
   "id": "3a3b24be",
   "metadata": {
    "slideshow": {
     "slide_type": "subslide"
    }
   },
   "source": [
    "## Aggregazioni"
   ]
  },
  {
   "cell_type": "code",
   "execution_count": null,
   "id": "9f9a37e2",
   "metadata": {
    "cell_style": "split",
    "scrolled": true
   },
   "outputs": [],
   "source": [
    "%%time\n",
    "\n",
    "(\n",
    "    polars_df\n",
    "    .group_by(\"Required age\")\n",
    "    .agg(\n",
    "        pl.col(\"AppID\"),\n",
    "        pl.col(\"Price\").mean().round(2).alias(\"Avg Price\")\n",
    "    )\n",
    "    .filter(pl.col(\"Avg Price\") > 10)\n",
    "    .explode(\"AppID\")\n",
    ")"
   ]
  },
  {
   "cell_type": "code",
   "execution_count": null,
   "id": "66a38f55",
   "metadata": {
    "cell_style": "split"
   },
   "outputs": [],
   "source": [
    "%%time\n",
    "\n",
    "agg_params = {\n",
    "    \"AppID\": pd.NamedAgg(\n",
    "        column=\"AppID\",\n",
    "        aggfunc=lambda x: x.tolist()\n",
    "    ),\n",
    "    \"Avg Price\": pd.NamedAgg(\n",
    "        column=\"Price\",\n",
    "        aggfunc=lambda x: x.mean().round(2)\n",
    "    )\n",
    "}\n",
    "pandas_df.groupby(\"Required age\").agg(\n",
    "    **agg_params\n",
    ").query(\n",
    "    \"`Avg Price` > 10\"\n",
    ").explode(\"AppID\")"
   ]
  },
  {
   "cell_type": "markdown",
   "id": "7e9c3953",
   "metadata": {
    "slideshow": {
     "slide_type": "subslide"
    }
   },
   "source": [
    "## Join"
   ]
  },
  {
   "cell_type": "markdown",
   "id": "2bb136f1",
   "metadata": {
    "cell_style": "center"
   },
   "source": [
    "Sfruttiamo l'esempio del join con polars.\n",
    "\n",
    "Creiamo quindi sia per Polars che per Pandas il secondo dataframe da joinare"
   ]
  },
  {
   "cell_type": "markdown",
   "id": "5ee199c1",
   "metadata": {},
   "source": [
    "!! Non usate il metodo `join` di Pandas perché dà risultati errati. Usate il metodo `merge`"
   ]
  },
  {
   "cell_type": "code",
   "execution_count": null,
   "id": "707b898f",
   "metadata": {
    "cell_style": "split"
   },
   "outputs": [],
   "source": [
    "polars_avg_price_per_age = (\n",
    "    polars_df\n",
    "    .group_by(\"Required age\")\n",
    "    .agg(\n",
    "        pl.col(\"AppID\"),\n",
    "        pl.col(\"Price\").mean().round(2).alias(\"Avg Price\")\n",
    "    )\n",
    "    .filter(pl.col(\"Avg Price\") > 10)\n",
    "    .explode(\"AppID\")\n",
    ").unique()"
   ]
  },
  {
   "cell_type": "code",
   "execution_count": null,
   "id": "733cdbcb",
   "metadata": {
    "cell_style": "split"
   },
   "outputs": [],
   "source": [
    "agg_params = {\n",
    "    \"AppID\": pd.NamedAgg(\n",
    "        column=\"AppID\",\n",
    "        aggfunc=lambda x: x.tolist()\n",
    "    ),\n",
    "    \"Avg Price\": pd.NamedAgg(\n",
    "        column=\"Price\",\n",
    "        aggfunc=lambda x: x.mean().round(2)\n",
    "    )\n",
    "}\n",
    "\n",
    "pandas_avg_price_per_age = (\n",
    "    pandas_df.groupby(\"Required age\").agg(\n",
    "        **agg_params\n",
    "    )\n",
    "    .query(\n",
    "        \"`Avg Price` > 10\"\n",
    "    )\n",
    "    .explode(\"AppID\")\n",
    ").drop_duplicates()"
   ]
  },
  {
   "cell_type": "markdown",
   "id": "82bed52f",
   "metadata": {
    "slideshow": {
     "slide_type": "subslide"
    }
   },
   "source": [
    "Ora possiamo calcolare i tempi della sola operazione join (per Pandas usiamo un escamotage dato che non supporta il *semi* join)"
   ]
  },
  {
   "cell_type": "code",
   "execution_count": null,
   "id": "f7873eba",
   "metadata": {
    "cell_style": "split",
    "slideshow": {
     "slide_type": ""
    }
   },
   "outputs": [],
   "source": [
    "%%time\n",
    "\n",
    "polars_df.join(\n",
    "    polars_avg_price_per_age,\n",
    "    on=\"AppID\",\n",
    "    how=\"semi\"\n",
    ")"
   ]
  },
  {
   "cell_type": "code",
   "execution_count": null,
   "id": "9a7222d4",
   "metadata": {
    "cell_style": "split"
   },
   "outputs": [],
   "source": [
    "%%time\n",
    "\n",
    "(\n",
    "    pandas_df.merge(\n",
    "        pandas_avg_price_per_age, \n",
    "        on=\"AppID\", \n",
    "        how=\"outer\", \n",
    "        indicator=True\n",
    "    )\n",
    "    .query('_merge == \"both\"')\n",
    "    .drop(columns=\"_merge\")\n",
    ")"
   ]
  },
  {
   "cell_type": "markdown",
   "id": "59ebaa0e",
   "metadata": {
    "slideshow": {
     "slide_type": "subslide"
    }
   },
   "source": [
    "E se usassimo una modalità di join supportata da entrambe le librerie?"
   ]
  },
  {
   "cell_type": "code",
   "execution_count": null,
   "id": "19ce8948",
   "metadata": {
    "cell_style": "split"
   },
   "outputs": [],
   "source": [
    "%%time\n",
    "\n",
    "polars_df.join(\n",
    "    polars_avg_price_per_age,\n",
    "    on=\"AppID\",\n",
    "    how=\"inner\"\n",
    ")"
   ]
  },
  {
   "cell_type": "code",
   "execution_count": null,
   "id": "c4f8fde4",
   "metadata": {
    "cell_style": "split"
   },
   "outputs": [],
   "source": [
    "%%time\n",
    "\n",
    "pandas_df.merge(\n",
    "    pandas_avg_price_per_age, \n",
    "    on=\"AppID\",\n",
    "    how=\"inner\"\n",
    ")"
   ]
  }
 ],
 "metadata": {
  "celltoolbar": "Slideshow",
  "kernelspec": {
   "display_name": "Python 3 (ipykernel)",
   "language": "python",
   "name": "python3"
  },
  "language_info": {
   "codemirror_mode": {
    "name": "ipython",
    "version": 3
   },
   "file_extension": ".py",
   "mimetype": "text/x-python",
   "name": "python",
   "nbconvert_exporter": "python",
   "pygments_lexer": "ipython3",
   "version": "3.8.10"
  },
  "rise": {
   "auto_select": "code",
   "autolaunch": true,
   "center": true,
   "enable_chalkboard": true,
   "slideNumber": "c/t"
  }
 },
 "nbformat": 4,
 "nbformat_minor": 5
}
